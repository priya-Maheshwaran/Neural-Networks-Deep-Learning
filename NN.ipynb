{
 "cells": [
  {
   "cell_type": "markdown",
   "metadata": {},
   "source": [
    "# 1. Data import and Understanding "
   ]
  },
  {
   "cell_type": "markdown",
   "metadata": {},
   "source": [
    "# A. Read the ‘Signals.csv’ as DataFrame and import required libraries"
   ]
  },
  {
   "cell_type": "code",
   "execution_count": 1,
   "metadata": {},
   "outputs": [
    {
     "name": "stdout",
     "output_type": "stream",
     "text": [
      "2.11.0\n"
     ]
    }
   ],
   "source": [
    "import pandas as pd\n",
    "import numpy as np\n",
    "import seaborn as sns\n",
    "import matplotlib.pyplot as plt\n",
    "from sklearn.model_selection import train_test_split\n",
    "from sklearn import preprocessing\n",
    "from sklearn.preprocessing import OneHotEncoder\n",
    "from sklearn.model_selection import GridSearchCV\n",
    "import tensorflow as tf\n",
    "print(tf.__version__)\n",
    "from tensorflow.keras.models import Sequential\n",
    "from tensorflow.keras.layers import Dense, Dropout, BatchNormalization,InputLayer\n",
    "from tensorflow.keras import optimizers\n",
    "from keras.callbacks import EarlyStopping\n",
    "from keras.wrappers.scikit_learn import KerasClassifier"
   ]
  },
  {
   "cell_type": "code",
   "execution_count": 2,
   "metadata": {},
   "outputs": [],
   "source": [
    "missing_values = [\"n/a\", \"na\", \"--\"]\n",
    "signal=pd.read_csv(\"C://Users//mahes//Downloads//Part-+1%2C2%263+-+Signal.csv\",na_values=missing_values)"
   ]
  },
  {
   "cell_type": "markdown",
   "metadata": {},
   "source": [
    "# B. Check for missing values and print percentage for each attribute"
   ]
  },
  {
   "cell_type": "code",
   "execution_count": 3,
   "metadata": {},
   "outputs": [
    {
     "data": {
      "text/plain": [
       "Parameter 1        0.0\n",
       "Parameter 2        0.0\n",
       "Parameter 3        0.0\n",
       "Parameter 4        0.0\n",
       "Parameter 5        0.0\n",
       "Parameter 6        0.0\n",
       "Parameter 7        0.0\n",
       "Parameter 8        0.0\n",
       "Parameter 9        0.0\n",
       "Parameter 10       0.0\n",
       "Parameter 11       0.0\n",
       "Signal_Strength    0.0\n",
       "dtype: float64"
      ]
     },
     "execution_count": 3,
     "metadata": {},
     "output_type": "execute_result"
    }
   ],
   "source": [
    "signal.isnull().sum()/len(signal)"
   ]
  },
  {
   "cell_type": "markdown",
   "metadata": {},
   "source": [
    "# C. Check for presence of duplicate records in the dataset and impute with appropriate method."
   ]
  },
  {
   "cell_type": "code",
   "execution_count": 4,
   "metadata": {},
   "outputs": [
    {
     "data": {
      "text/plain": [
       "240"
      ]
     },
     "execution_count": 4,
     "metadata": {},
     "output_type": "execute_result"
    }
   ],
   "source": [
    "signal.duplicated().sum()"
   ]
  },
  {
   "cell_type": "code",
   "execution_count": 5,
   "metadata": {},
   "outputs": [],
   "source": [
    "signal.drop_duplicates(inplace=True)"
   ]
  },
  {
   "cell_type": "code",
   "execution_count": 6,
   "metadata": {},
   "outputs": [
    {
     "data": {
      "text/plain": [
       "0"
      ]
     },
     "execution_count": 6,
     "metadata": {},
     "output_type": "execute_result"
    }
   ],
   "source": [
    "signal.duplicated().sum()"
   ]
  },
  {
   "cell_type": "markdown",
   "metadata": {},
   "source": [
    "Since dupliate means the data is repeated i am removing all those in the above method"
   ]
  },
  {
   "cell_type": "markdown",
   "metadata": {},
   "source": [
    "# D. Visualise distribution of the target variable."
   ]
  },
  {
   "cell_type": "markdown",
   "metadata": {},
   "source": [
    "My target variable is signal strength"
   ]
  },
  {
   "cell_type": "code",
   "execution_count": 7,
   "metadata": {},
   "outputs": [
    {
     "data": {
      "text/plain": [
       "(array([ 10.,   0.,  53.,   0., 577.,   0., 535.,   0., 167.,  17.]),\n",
       " array([3. , 3.5, 4. , 4.5, 5. , 5.5, 6. , 6.5, 7. , 7.5, 8. ]),\n",
       " <BarContainer object of 10 artists>)"
      ]
     },
     "execution_count": 7,
     "metadata": {},
     "output_type": "execute_result"
    },
    {
     "data": {
      "image/png": "[encoded data removed]",
      "text/plain": [
       "<Figure size 640x480 with 1 Axes>"
      ]
     },
     "metadata": {},
     "output_type": "display_data"
    }
   ],
   "source": [
    "plt.hist(signal['Signal_Strength'])"
   ]
  },
  {
   "cell_type": "markdown",
   "metadata": {},
   "source": [
    "# E share the insights from the initial data analysis (at least 2). "
   ]
  },
  {
   "cell_type": "code",
   "execution_count": 8,
   "metadata": {},
   "outputs": [
    {
     "data": {
      "text/html": [
       "<div>\n",
       "<style scoped>\n",
       "    .dataframe tbody tr th:only-of-type {\n",
       "        vertical-align: middle;\n",
       "    }\n",
       "\n",
       "    .dataframe tbody tr th {\n",
       "        vertical-align: top;\n",
       "    }\n",
       "\n",
       "    .dataframe thead th {\n",
       "        text-align: right;\n",
       "    }\n",
       "</style>\n",
       "<table border=\"1\" class=\"dataframe\">\n",
       "  <thead>\n",
       "    <tr style=\"text-align: right;\">\n",
       "      <th></th>\n",
       "      <th>Parameter 1</th>\n",
       "      <th>Parameter 2</th>\n",
       "      <th>Parameter 3</th>\n",
       "      <th>Parameter 4</th>\n",
       "      <th>Parameter 5</th>\n",
       "      <th>Parameter 6</th>\n",
       "      <th>Parameter 7</th>\n",
       "      <th>Parameter 8</th>\n",
       "      <th>Parameter 9</th>\n",
       "      <th>Parameter 10</th>\n",
       "      <th>Parameter 11</th>\n",
       "      <th>Signal_Strength</th>\n",
       "    </tr>\n",
       "  </thead>\n",
       "  <tbody>\n",
       "    <tr>\n",
       "      <th>0</th>\n",
       "      <td>7.4</td>\n",
       "      <td>0.70</td>\n",
       "      <td>0.00</td>\n",
       "      <td>1.9</td>\n",
       "      <td>0.076</td>\n",
       "      <td>11.0</td>\n",
       "      <td>34.0</td>\n",
       "      <td>0.9978</td>\n",
       "      <td>3.51</td>\n",
       "      <td>0.56</td>\n",
       "      <td>9.4</td>\n",
       "      <td>5</td>\n",
       "    </tr>\n",
       "    <tr>\n",
       "      <th>1</th>\n",
       "      <td>7.8</td>\n",
       "      <td>0.88</td>\n",
       "      <td>0.00</td>\n",
       "      <td>2.6</td>\n",
       "      <td>0.098</td>\n",
       "      <td>25.0</td>\n",
       "      <td>67.0</td>\n",
       "      <td>0.9968</td>\n",
       "      <td>3.20</td>\n",
       "      <td>0.68</td>\n",
       "      <td>9.8</td>\n",
       "      <td>5</td>\n",
       "    </tr>\n",
       "    <tr>\n",
       "      <th>2</th>\n",
       "      <td>7.8</td>\n",
       "      <td>0.76</td>\n",
       "      <td>0.04</td>\n",
       "      <td>2.3</td>\n",
       "      <td>0.092</td>\n",
       "      <td>15.0</td>\n",
       "      <td>54.0</td>\n",
       "      <td>0.9970</td>\n",
       "      <td>3.26</td>\n",
       "      <td>0.65</td>\n",
       "      <td>9.8</td>\n",
       "      <td>5</td>\n",
       "    </tr>\n",
       "    <tr>\n",
       "      <th>3</th>\n",
       "      <td>11.2</td>\n",
       "      <td>0.28</td>\n",
       "      <td>0.56</td>\n",
       "      <td>1.9</td>\n",
       "      <td>0.075</td>\n",
       "      <td>17.0</td>\n",
       "      <td>60.0</td>\n",
       "      <td>0.9980</td>\n",
       "      <td>3.16</td>\n",
       "      <td>0.58</td>\n",
       "      <td>9.8</td>\n",
       "      <td>6</td>\n",
       "    </tr>\n",
       "    <tr>\n",
       "      <th>5</th>\n",
       "      <td>7.4</td>\n",
       "      <td>0.66</td>\n",
       "      <td>0.00</td>\n",
       "      <td>1.8</td>\n",
       "      <td>0.075</td>\n",
       "      <td>13.0</td>\n",
       "      <td>40.0</td>\n",
       "      <td>0.9978</td>\n",
       "      <td>3.51</td>\n",
       "      <td>0.56</td>\n",
       "      <td>9.4</td>\n",
       "      <td>5</td>\n",
       "    </tr>\n",
       "  </tbody>\n",
       "</table>\n",
       "</div>"
      ],
      "text/plain": [
       "   Parameter 1  Parameter 2  Parameter 3  Parameter 4  Parameter 5  \\\n",
       "0          7.4         0.70         0.00          1.9        0.076   \n",
       "1          7.8         0.88         0.00          2.6        0.098   \n",
       "2          7.8         0.76         0.04          2.3        0.092   \n",
       "3         11.2         0.28         0.56          1.9        0.075   \n",
       "5          7.4         0.66         0.00          1.8        0.075   \n",
       "\n",
       "   Parameter 6  Parameter 7  Parameter 8  Parameter 9  Parameter 10  \\\n",
       "0         11.0         34.0       0.9978         3.51          0.56   \n",
       "1         25.0         67.0       0.9968         3.20          0.68   \n",
       "2         15.0         54.0       0.9970         3.26          0.65   \n",
       "3         17.0         60.0       0.9980         3.16          0.58   \n",
       "5         13.0         40.0       0.9978         3.51          0.56   \n",
       "\n",
       "   Parameter 11  Signal_Strength  \n",
       "0           9.4                5  \n",
       "1           9.8                5  \n",
       "2           9.8                5  \n",
       "3           9.8                6  \n",
       "5           9.4                5  "
      ]
     },
     "execution_count": 8,
     "metadata": {},
     "output_type": "execute_result"
    }
   ],
   "source": [
    "signal.head()"
   ]
  },
  {
   "cell_type": "code",
   "execution_count": 9,
   "metadata": {},
   "outputs": [
    {
     "name": "stdout",
     "output_type": "stream",
     "text": [
      "<class 'pandas.core.frame.DataFrame'>\n",
      "Int64Index: 1359 entries, 0 to 1598\n",
      "Data columns (total 12 columns):\n",
      " #   Column           Non-Null Count  Dtype  \n",
      "---  ------           --------------  -----  \n",
      " 0   Parameter 1      1359 non-null   float64\n",
      " 1   Parameter 2      1359 non-null   float64\n",
      " 2   Parameter 3      1359 non-null   float64\n",
      " 3   Parameter 4      1359 non-null   float64\n",
      " 4   Parameter 5      1359 non-null   float64\n",
      " 5   Parameter 6      1359 non-null   float64\n",
      " 6   Parameter 7      1359 non-null   float64\n",
      " 7   Parameter 8      1359 non-null   float64\n",
      " 8   Parameter 9      1359 non-null   float64\n",
      " 9   Parameter 10     1359 non-null   float64\n",
      " 10  Parameter 11     1359 non-null   float64\n",
      " 11  Signal_Strength  1359 non-null   int64  \n",
      "dtypes: float64(11), int64(1)\n",
      "memory usage: 138.0 KB\n"
     ]
    }
   ],
   "source": [
    "signal.info()"
   ]
  },
  {
   "cell_type": "code",
   "execution_count": 10,
   "metadata": {},
   "outputs": [
    {
     "data": {
      "text/html": [
       "<div>\n",
       "<style scoped>\n",
       "    .dataframe tbody tr th:only-of-type {\n",
       "        vertical-align: middle;\n",
       "    }\n",
       "\n",
       "    .dataframe tbody tr th {\n",
       "        vertical-align: top;\n",
       "    }\n",
       "\n",
       "    .dataframe thead th {\n",
       "        text-align: right;\n",
       "    }\n",
       "</style>\n",
       "<table border=\"1\" class=\"dataframe\">\n",
       "  <thead>\n",
       "    <tr style=\"text-align: right;\">\n",
       "      <th></th>\n",
       "      <th>Parameter 1</th>\n",
       "      <th>Parameter 2</th>\n",
       "      <th>Parameter 3</th>\n",
       "      <th>Parameter 4</th>\n",
       "      <th>Parameter 5</th>\n",
       "      <th>Parameter 6</th>\n",
       "      <th>Parameter 7</th>\n",
       "      <th>Parameter 8</th>\n",
       "      <th>Parameter 9</th>\n",
       "      <th>Parameter 10</th>\n",
       "      <th>Parameter 11</th>\n",
       "      <th>Signal_Strength</th>\n",
       "    </tr>\n",
       "  </thead>\n",
       "  <tbody>\n",
       "    <tr>\n",
       "      <th>count</th>\n",
       "      <td>1359.000000</td>\n",
       "      <td>1359.000000</td>\n",
       "      <td>1359.000000</td>\n",
       "      <td>1359.000000</td>\n",
       "      <td>1359.000000</td>\n",
       "      <td>1359.000000</td>\n",
       "      <td>1359.000000</td>\n",
       "      <td>1359.000000</td>\n",
       "      <td>1359.000000</td>\n",
       "      <td>1359.000000</td>\n",
       "      <td>1359.000000</td>\n",
       "      <td>1359.000000</td>\n",
       "    </tr>\n",
       "    <tr>\n",
       "      <th>mean</th>\n",
       "      <td>8.310596</td>\n",
       "      <td>0.529478</td>\n",
       "      <td>0.272333</td>\n",
       "      <td>2.523400</td>\n",
       "      <td>0.088124</td>\n",
       "      <td>15.893304</td>\n",
       "      <td>46.825975</td>\n",
       "      <td>0.996709</td>\n",
       "      <td>3.309787</td>\n",
       "      <td>0.658705</td>\n",
       "      <td>10.432315</td>\n",
       "      <td>5.623252</td>\n",
       "    </tr>\n",
       "    <tr>\n",
       "      <th>std</th>\n",
       "      <td>1.736990</td>\n",
       "      <td>0.183031</td>\n",
       "      <td>0.195537</td>\n",
       "      <td>1.352314</td>\n",
       "      <td>0.049377</td>\n",
       "      <td>10.447270</td>\n",
       "      <td>33.408946</td>\n",
       "      <td>0.001869</td>\n",
       "      <td>0.155036</td>\n",
       "      <td>0.170667</td>\n",
       "      <td>1.082065</td>\n",
       "      <td>0.823578</td>\n",
       "    </tr>\n",
       "    <tr>\n",
       "      <th>min</th>\n",
       "      <td>4.600000</td>\n",
       "      <td>0.120000</td>\n",
       "      <td>0.000000</td>\n",
       "      <td>0.900000</td>\n",
       "      <td>0.012000</td>\n",
       "      <td>1.000000</td>\n",
       "      <td>6.000000</td>\n",
       "      <td>0.990070</td>\n",
       "      <td>2.740000</td>\n",
       "      <td>0.330000</td>\n",
       "      <td>8.400000</td>\n",
       "      <td>3.000000</td>\n",
       "    </tr>\n",
       "    <tr>\n",
       "      <th>25%</th>\n",
       "      <td>7.100000</td>\n",
       "      <td>0.390000</td>\n",
       "      <td>0.090000</td>\n",
       "      <td>1.900000</td>\n",
       "      <td>0.070000</td>\n",
       "      <td>7.000000</td>\n",
       "      <td>22.000000</td>\n",
       "      <td>0.995600</td>\n",
       "      <td>3.210000</td>\n",
       "      <td>0.550000</td>\n",
       "      <td>9.500000</td>\n",
       "      <td>5.000000</td>\n",
       "    </tr>\n",
       "    <tr>\n",
       "      <th>50%</th>\n",
       "      <td>7.900000</td>\n",
       "      <td>0.520000</td>\n",
       "      <td>0.260000</td>\n",
       "      <td>2.200000</td>\n",
       "      <td>0.079000</td>\n",
       "      <td>14.000000</td>\n",
       "      <td>38.000000</td>\n",
       "      <td>0.996700</td>\n",
       "      <td>3.310000</td>\n",
       "      <td>0.620000</td>\n",
       "      <td>10.200000</td>\n",
       "      <td>6.000000</td>\n",
       "    </tr>\n",
       "    <tr>\n",
       "      <th>75%</th>\n",
       "      <td>9.200000</td>\n",
       "      <td>0.640000</td>\n",
       "      <td>0.430000</td>\n",
       "      <td>2.600000</td>\n",
       "      <td>0.091000</td>\n",
       "      <td>21.000000</td>\n",
       "      <td>63.000000</td>\n",
       "      <td>0.997820</td>\n",
       "      <td>3.400000</td>\n",
       "      <td>0.730000</td>\n",
       "      <td>11.100000</td>\n",
       "      <td>6.000000</td>\n",
       "    </tr>\n",
       "    <tr>\n",
       "      <th>max</th>\n",
       "      <td>15.900000</td>\n",
       "      <td>1.580000</td>\n",
       "      <td>1.000000</td>\n",
       "      <td>15.500000</td>\n",
       "      <td>0.611000</td>\n",
       "      <td>72.000000</td>\n",
       "      <td>289.000000</td>\n",
       "      <td>1.003690</td>\n",
       "      <td>4.010000</td>\n",
       "      <td>2.000000</td>\n",
       "      <td>14.900000</td>\n",
       "      <td>8.000000</td>\n",
       "    </tr>\n",
       "  </tbody>\n",
       "</table>\n",
       "</div>"
      ],
      "text/plain": [
       "       Parameter 1  Parameter 2  Parameter 3  Parameter 4  Parameter 5  \\\n",
       "count  1359.000000  1359.000000  1359.000000  1359.000000  1359.000000   \n",
       "mean      8.310596     0.529478     0.272333     2.523400     0.088124   \n",
       "std       1.736990     0.183031     0.195537     1.352314     0.049377   \n",
       "min       4.600000     0.120000     0.000000     0.900000     0.012000   \n",
       "25%       7.100000     0.390000     0.090000     1.900000     0.070000   \n",
       "50%       7.900000     0.520000     0.260000     2.200000     0.079000   \n",
       "75%       9.200000     0.640000     0.430000     2.600000     0.091000   \n",
       "max      15.900000     1.580000     1.000000    15.500000     0.611000   \n",
       "\n",
       "       Parameter 6  Parameter 7  Parameter 8  Parameter 9  Parameter 10  \\\n",
       "count  1359.000000  1359.000000  1359.000000  1359.000000   1359.000000   \n",
       "mean     15.893304    46.825975     0.996709     3.309787      0.658705   \n",
       "std      10.447270    33.408946     0.001869     0.155036      0.170667   \n",
       "min       1.000000     6.000000     0.990070     2.740000      0.330000   \n",
       "25%       7.000000    22.000000     0.995600     3.210000      0.550000   \n",
       "50%      14.000000    38.000000     0.996700     3.310000      0.620000   \n",
       "75%      21.000000    63.000000     0.997820     3.400000      0.730000   \n",
       "max      72.000000   289.000000     1.003690     4.010000      2.000000   \n",
       "\n",
       "       Parameter 11  Signal_Strength  \n",
       "count   1359.000000      1359.000000  \n",
       "mean      10.432315         5.623252  \n",
       "std        1.082065         0.823578  \n",
       "min        8.400000         3.000000  \n",
       "25%        9.500000         5.000000  \n",
       "50%       10.200000         6.000000  \n",
       "75%       11.100000         6.000000  \n",
       "max       14.900000         8.000000  "
      ]
     },
     "execution_count": 10,
     "metadata": {},
     "output_type": "execute_result"
    }
   ],
   "source": [
    "signal.describe()"
   ]
  },
  {
   "cell_type": "markdown",
   "metadata": {},
   "source": [
    "Fon the intial point of my dataset i can observe my 5 point summary\n",
    "\n",
    "The mean for Parameter 1 is 8.3\n",
    "\n",
    "The min of parameter 2 is 0.12\n",
    "\n",
    "The mean of signal strength is 5.6\n",
    "\n",
    "Also the data type is also observed\n",
    "  \n"
   ]
  },
  {
   "cell_type": "markdown",
   "metadata": {},
   "source": [
    "# 2. Data preprocessing"
   ]
  },
  {
   "cell_type": "markdown",
   "metadata": {},
   "source": [
    "# A. Split the data into X & Y"
   ]
  },
  {
   "cell_type": "code",
   "execution_count": 11,
   "metadata": {},
   "outputs": [],
   "source": [
    "x= signal.drop(\"Signal_Strength\", axis = 1)\n",
    "y= signal[\"Signal_Strength\"]"
   ]
  },
  {
   "cell_type": "code",
   "execution_count": 12,
   "metadata": {},
   "outputs": [
    {
     "data": {
      "text/plain": [
       "3     10\n",
       "4     53\n",
       "5    577\n",
       "6    535\n",
       "7    167\n",
       "8     17\n",
       "Name: Signal_Strength, dtype: int64"
      ]
     },
     "execution_count": 12,
     "metadata": {},
     "output_type": "execute_result"
    }
   ],
   "source": [
    "y.value_counts().sort_index()"
   ]
  },
  {
   "cell_type": "code",
   "execution_count": 13,
   "metadata": {},
   "outputs": [],
   "source": [
    "rep={3:0,\n",
    "    4:1,\n",
    "    5:2,\n",
    "    6:3,\n",
    "    7:4,\n",
    "    8:5}"
   ]
  },
  {
   "cell_type": "code",
   "execution_count": 14,
   "metadata": {},
   "outputs": [],
   "source": [
    "y=y.replace(rep)"
   ]
  },
  {
   "cell_type": "code",
   "execution_count": 15,
   "metadata": {},
   "outputs": [
    {
     "data": {
      "text/plain": [
       "0     10\n",
       "1     53\n",
       "2    577\n",
       "3    535\n",
       "4    167\n",
       "5     17\n",
       "Name: Signal_Strength, dtype: int64"
      ]
     },
     "execution_count": 15,
     "metadata": {},
     "output_type": "execute_result"
    }
   ],
   "source": [
    "y.value_counts().sort_index()"
   ]
  },
  {
   "cell_type": "code",
   "execution_count": 16,
   "metadata": {},
   "outputs": [
    {
     "data": {
      "text/plain": [
       "Parameter 1  Parameter 2  Parameter 3  Parameter 4  Parameter 5  Parameter 6  Parameter 7  Parameter 8  Parameter 9  Parameter 10  Parameter 11\n",
       "4.6          0.52         0.15         2.1          0.054        8.0          65.0         0.99340      3.90         0.56          13.1            1\n",
       "8.8          0.24         0.54         2.5          0.083        25.0         57.0         0.99830      3.39         0.54          9.2             1\n",
       "             0.41         0.64         2.2          0.093        9.0          42.0         0.99860      3.54         0.66          10.5            1\n",
       "             0.40         0.40         2.2          0.079        19.0         52.0         0.99800      3.44         0.64          9.2             1\n",
       "             0.37         0.48         2.1          0.097        39.0         145.0        0.99750      3.04         1.03          9.3             1\n",
       "                                                                                                                                                  ..\n",
       "7.4          0.36         0.30         1.8          0.074        17.0         24.0         0.99419      3.24         0.70          11.4            1\n",
       "                          0.29         2.6          0.087        26.0         72.0         0.99645      3.39         0.68          11.0            1\n",
       "             0.35         0.33         2.4          0.068        9.0          26.0         0.99470      3.36         0.60          11.9            1\n",
       "             0.29         0.38         1.7          0.062        9.0          30.0         0.99680      3.41         0.53          9.5             1\n",
       "15.9         0.36         0.65         7.5          0.096        22.0         71.0         0.99760      2.98         0.84          14.9            1\n",
       "Length: 1359, dtype: int64"
      ]
     },
     "execution_count": 16,
     "metadata": {},
     "output_type": "execute_result"
    }
   ],
   "source": [
    "x.value_counts()\n"
   ]
  },
  {
   "cell_type": "code",
   "execution_count": 17,
   "metadata": {},
   "outputs": [
    {
     "data": {
      "text/plain": [
       "2    577\n",
       "3    535\n",
       "4    167\n",
       "1     53\n",
       "5     17\n",
       "0     10\n",
       "Name: Signal_Strength, dtype: int64"
      ]
     },
     "execution_count": 17,
     "metadata": {},
     "output_type": "execute_result"
    }
   ],
   "source": [
    "y.value_counts()"
   ]
  },
  {
   "cell_type": "code",
   "execution_count": 18,
   "metadata": {},
   "outputs": [
    {
     "name": "stdout",
     "output_type": "stream",
     "text": [
      "Requirement already satisfied: imblearn in c:\\users\\mahes\\anaconda3\\lib\\site-packages (0.0)\n",
      "Requirement already satisfied: imbalanced-learn in c:\\users\\mahes\\anaconda3\\lib\\site-packages (from imblearn) (0.10.1)\n",
      "Requirement already satisfied: scipy>=1.3.2 in c:\\users\\mahes\\anaconda3\\lib\\site-packages (from imbalanced-learn->imblearn) (1.9.1)\n",
      "Requirement already satisfied: joblib>=1.1.1 in c:\\users\\mahes\\anaconda3\\lib\\site-packages (from imbalanced-learn->imblearn) (1.2.0)\n",
      "Requirement already satisfied: threadpoolctl>=2.0.0 in c:\\users\\mahes\\anaconda3\\lib\\site-packages (from imbalanced-learn->imblearn) (2.2.0)\n",
      "Requirement already satisfied: scikit-learn>=1.0.2 in c:\\users\\mahes\\anaconda3\\lib\\site-packages (from imbalanced-learn->imblearn) (1.2.1)\n",
      "Requirement already satisfied: numpy>=1.17.3 in c:\\users\\mahes\\anaconda3\\lib\\site-packages (from imbalanced-learn->imblearn) (1.21.5)\n"
     ]
    }
   ],
   "source": [
    "!pip install imblearn"
   ]
  },
  {
   "cell_type": "code",
   "execution_count": 19,
   "metadata": {},
   "outputs": [],
   "source": [
    "from imblearn.over_sampling import SMOTE\n",
    "sm = SMOTE(random_state = 2)\n",
    "x_sm,y_sm= sm.fit_resample(x,y)"
   ]
  },
  {
   "cell_type": "code",
   "execution_count": 20,
   "metadata": {},
   "outputs": [
    {
     "data": {
      "text/plain": [
       "2    577\n",
       "3    577\n",
       "4    577\n",
       "1    577\n",
       "5    577\n",
       "0    577\n",
       "Name: Signal_Strength, dtype: int64"
      ]
     },
     "execution_count": 20,
     "metadata": {},
     "output_type": "execute_result"
    }
   ],
   "source": [
    "y_sm.value_counts()"
   ]
  },
  {
   "cell_type": "code",
   "execution_count": 21,
   "metadata": {},
   "outputs": [
    {
     "data": {
      "text/plain": [
       "Parameter 1  Parameter 2  Parameter 3  Parameter 4  Parameter 5  Parameter 6  Parameter 7  Parameter 8  Parameter 9  Parameter 10  Parameter 11\n",
       "4.600000     0.520000     0.150000     2.100000     0.054000     8.000000     65.000000    0.993400     3.900000     0.560000      13.100000       1\n",
       "8.866917     0.379962     0.446720     2.133647     0.072004     6.000000     13.668233    0.995574     3.283271     0.766739      11.700000       1\n",
       "8.837594     0.307669     0.501203     2.518797     0.075143     5.233083     15.977444    0.996298     3.170451     0.966015      11.265414       1\n",
       "8.839745     0.346156     0.416287     1.910750     0.073446     13.954385    25.384371    0.995439     3.140325     0.733225      10.957001       1\n",
       "8.839931     0.791007     0.030247     1.795052     0.075399     4.325086     14.000000    0.997577     3.299753     0.553003      10.122612       1\n",
       "                                                                                                                                                  ..\n",
       "7.406432     0.649460     0.227269     1.977913     0.084337     8.220874     23.000000    0.995986     3.339357     0.445583      9.420085        1\n",
       "7.408267     1.405310     0.004261     2.036089     0.124431     5.213037     9.639110     0.995024     3.510652     0.448998      10.697615       1\n",
       "7.408747     1.183396     0.000194     4.241739     0.096874     5.009719     13.970842    0.996623     3.628542     0.539514      10.702916       1\n",
       "7.409555     0.912405     0.042261     5.106687     0.082516     3.773887     13.226113    0.998297     3.420637     0.512261      10.406370       1\n",
       "15.900000    0.360000     0.650000     7.500000     0.096000     22.000000    71.000000    0.997600     2.980000     0.840000      14.900000       1\n",
       "Length: 3462, dtype: int64"
      ]
     },
     "execution_count": 21,
     "metadata": {},
     "output_type": "execute_result"
    }
   ],
   "source": [
    "x_sm.value_counts()"
   ]
  },
  {
   "cell_type": "markdown",
   "metadata": {},
   "source": [
    "# B. Split the data into train & test with 70:30 proportion."
   ]
  },
  {
   "cell_type": "code",
   "execution_count": 22,
   "metadata": {},
   "outputs": [],
   "source": [
    "X_train, X_test, y_train, y_test = train_test_split(x_sm, y_sm, test_size=0.3, random_state=42)"
   ]
  },
  {
   "cell_type": "markdown",
   "metadata": {},
   "source": [
    "# C. Print shape of all the 4 variables and verify if train and test data is in sync."
   ]
  },
  {
   "cell_type": "code",
   "execution_count": 23,
   "metadata": {},
   "outputs": [
    {
     "data": {
      "text/plain": [
       "(2423, 11)"
      ]
     },
     "execution_count": 23,
     "metadata": {},
     "output_type": "execute_result"
    }
   ],
   "source": [
    "X_train.shape"
   ]
  },
  {
   "cell_type": "code",
   "execution_count": 24,
   "metadata": {},
   "outputs": [
    {
     "data": {
      "text/plain": [
       "(1039, 11)"
      ]
     },
     "execution_count": 24,
     "metadata": {},
     "output_type": "execute_result"
    }
   ],
   "source": [
    "X_test.shape"
   ]
  },
  {
   "cell_type": "code",
   "execution_count": 25,
   "metadata": {},
   "outputs": [
    {
     "data": {
      "text/plain": [
       "(2423,)"
      ]
     },
     "execution_count": 25,
     "metadata": {},
     "output_type": "execute_result"
    }
   ],
   "source": [
    "y_train.shape"
   ]
  },
  {
   "cell_type": "code",
   "execution_count": 26,
   "metadata": {},
   "outputs": [
    {
     "data": {
      "text/plain": [
       "(1039,)"
      ]
     },
     "execution_count": 26,
     "metadata": {},
     "output_type": "execute_result"
    }
   ],
   "source": [
    "y_test.shape"
   ]
  },
  {
   "cell_type": "markdown",
   "metadata": {},
   "source": [
    "From the above i can conclude that test dta is sync"
   ]
  },
  {
   "cell_type": "markdown",
   "metadata": {},
   "source": [
    "# D. Normalise the train and test data with appropriate method."
   ]
  },
  {
   "cell_type": "code",
   "execution_count": 27,
   "metadata": {},
   "outputs": [],
   "source": [
    "from sklearn.preprocessing import StandardScaler\n",
    "scaler=StandardScaler()\n",
    "X_Scale_train=scaler.fit_transform(X_train)\n",
    "X_Scale_test=scaler.fit_transform(X_test)"
   ]
  },
  {
   "cell_type": "code",
   "execution_count": 28,
   "metadata": {},
   "outputs": [
    {
     "data": {
      "text/plain": [
       "array([[ 1.32839425, -0.9233725 ,  0.98192884, ..., -0.6465761 ,\n",
       "         0.63948345,  1.02947952],\n",
       "       [ 0.06686311, -0.88189344,  0.91953416, ...,  0.06330427,\n",
       "         0.74118943,  1.11098467],\n",
       "       [ 1.67783079, -1.03677122,  1.73861563, ..., -1.81803308,\n",
       "         0.91464371, -0.095211  ],\n",
       "       ...,\n",
       "       [-0.93901902, -0.47561297, -0.94207617, ..., -0.19332261,\n",
       "        -0.05003113, -0.96319076],\n",
       "       [ 0.34789122, -1.08619415,  0.19259345, ..., -1.03507909,\n",
       "        -0.67686258, -0.29896733],\n",
       "       [ 0.24715774, -0.761948  ,  0.72943812, ..., -0.0891092 ,\n",
       "         0.44511053,  0.78039573]])"
      ]
     },
     "execution_count": 28,
     "metadata": {},
     "output_type": "execute_result"
    }
   ],
   "source": [
    "X_Scale_train"
   ]
  },
  {
   "cell_type": "code",
   "execution_count": 29,
   "metadata": {},
   "outputs": [
    {
     "data": {
      "text/html": [
       "<div>\n",
       "<style scoped>\n",
       "    .dataframe tbody tr th:only-of-type {\n",
       "        vertical-align: middle;\n",
       "    }\n",
       "\n",
       "    .dataframe tbody tr th {\n",
       "        vertical-align: top;\n",
       "    }\n",
       "\n",
       "    .dataframe thead th {\n",
       "        text-align: right;\n",
       "    }\n",
       "</style>\n",
       "<table border=\"1\" class=\"dataframe\">\n",
       "  <thead>\n",
       "    <tr style=\"text-align: right;\">\n",
       "      <th></th>\n",
       "      <th>Parameter 1</th>\n",
       "      <th>Parameter 2</th>\n",
       "      <th>Parameter 3</th>\n",
       "      <th>Parameter 4</th>\n",
       "      <th>Parameter 5</th>\n",
       "      <th>Parameter 6</th>\n",
       "      <th>Parameter 7</th>\n",
       "      <th>Parameter 8</th>\n",
       "      <th>Parameter 9</th>\n",
       "      <th>Parameter 10</th>\n",
       "      <th>Parameter 11</th>\n",
       "    </tr>\n",
       "  </thead>\n",
       "  <tbody>\n",
       "    <tr>\n",
       "      <th>1041</th>\n",
       "      <td>10.500000</td>\n",
       "      <td>0.360000</td>\n",
       "      <td>0.470000</td>\n",
       "      <td>2.200000</td>\n",
       "      <td>0.074000</td>\n",
       "      <td>9.000000</td>\n",
       "      <td>23.000000</td>\n",
       "      <td>0.996380</td>\n",
       "      <td>3.230000</td>\n",
       "      <td>0.760000</td>\n",
       "      <td>12.000000</td>\n",
       "    </tr>\n",
       "    <tr>\n",
       "      <th>2923</th>\n",
       "      <td>8.441414</td>\n",
       "      <td>0.370190</td>\n",
       "      <td>0.457352</td>\n",
       "      <td>2.090564</td>\n",
       "      <td>0.065434</td>\n",
       "      <td>13.113371</td>\n",
       "      <td>40.490830</td>\n",
       "      <td>0.994870</td>\n",
       "      <td>3.339633</td>\n",
       "      <td>0.776225</td>\n",
       "      <td>12.098166</td>\n",
       "    </tr>\n",
       "    <tr>\n",
       "      <th>3106</th>\n",
       "      <td>11.070216</td>\n",
       "      <td>0.332142</td>\n",
       "      <td>0.623382</td>\n",
       "      <td>2.159743</td>\n",
       "      <td>0.069585</td>\n",
       "      <td>8.616736</td>\n",
       "      <td>33.227035</td>\n",
       "      <td>0.997291</td>\n",
       "      <td>3.049081</td>\n",
       "      <td>0.803897</td>\n",
       "      <td>10.645407</td>\n",
       "    </tr>\n",
       "    <tr>\n",
       "      <th>1237</th>\n",
       "      <td>7.900000</td>\n",
       "      <td>0.200000</td>\n",
       "      <td>0.350000</td>\n",
       "      <td>1.700000</td>\n",
       "      <td>0.054000</td>\n",
       "      <td>7.000000</td>\n",
       "      <td>15.000000</td>\n",
       "      <td>0.994580</td>\n",
       "      <td>3.320000</td>\n",
       "      <td>0.800000</td>\n",
       "      <td>11.900000</td>\n",
       "    </tr>\n",
       "    <tr>\n",
       "      <th>3348</th>\n",
       "      <td>5.506659</td>\n",
       "      <td>0.513973</td>\n",
       "      <td>0.031332</td>\n",
       "      <td>1.773364</td>\n",
       "      <td>0.044067</td>\n",
       "      <td>26.934549</td>\n",
       "      <td>87.066591</td>\n",
       "      <td>0.990907</td>\n",
       "      <td>3.503995</td>\n",
       "      <td>0.820000</td>\n",
       "      <td>13.926750</td>\n",
       "    </tr>\n",
       "    <tr>\n",
       "      <th>...</th>\n",
       "      <td>...</td>\n",
       "      <td>...</td>\n",
       "      <td>...</td>\n",
       "      <td>...</td>\n",
       "      <td>...</td>\n",
       "      <td>...</td>\n",
       "      <td>...</td>\n",
       "      <td>...</td>\n",
       "      <td>...</td>\n",
       "      <td>...</td>\n",
       "      <td>...</td>\n",
       "    </tr>\n",
       "    <tr>\n",
       "      <th>1095</th>\n",
       "      <td>11.300000</td>\n",
       "      <td>0.370000</td>\n",
       "      <td>0.500000</td>\n",
       "      <td>1.800000</td>\n",
       "      <td>0.090000</td>\n",
       "      <td>20.000000</td>\n",
       "      <td>47.000000</td>\n",
       "      <td>0.997340</td>\n",
       "      <td>3.150000</td>\n",
       "      <td>0.570000</td>\n",
       "      <td>10.500000</td>\n",
       "    </tr>\n",
       "    <tr>\n",
       "      <th>1130</th>\n",
       "      <td>7.400000</td>\n",
       "      <td>0.600000</td>\n",
       "      <td>0.260000</td>\n",
       "      <td>2.100000</td>\n",
       "      <td>0.083000</td>\n",
       "      <td>17.000000</td>\n",
       "      <td>91.000000</td>\n",
       "      <td>0.996160</td>\n",
       "      <td>3.290000</td>\n",
       "      <td>0.560000</td>\n",
       "      <td>9.800000</td>\n",
       "    </tr>\n",
       "    <tr>\n",
       "      <th>1294</th>\n",
       "      <td>6.800000</td>\n",
       "      <td>0.470000</td>\n",
       "      <td>0.080000</td>\n",
       "      <td>2.200000</td>\n",
       "      <td>0.064000</td>\n",
       "      <td>18.000000</td>\n",
       "      <td>38.000000</td>\n",
       "      <td>0.995530</td>\n",
       "      <td>3.300000</td>\n",
       "      <td>0.650000</td>\n",
       "      <td>9.600000</td>\n",
       "    </tr>\n",
       "    <tr>\n",
       "      <th>860</th>\n",
       "      <td>8.900000</td>\n",
       "      <td>0.320000</td>\n",
       "      <td>0.310000</td>\n",
       "      <td>2.000000</td>\n",
       "      <td>0.088000</td>\n",
       "      <td>12.000000</td>\n",
       "      <td>19.000000</td>\n",
       "      <td>0.995700</td>\n",
       "      <td>3.170000</td>\n",
       "      <td>0.550000</td>\n",
       "      <td>10.400000</td>\n",
       "    </tr>\n",
       "    <tr>\n",
       "      <th>3174</th>\n",
       "      <td>8.735622</td>\n",
       "      <td>0.399657</td>\n",
       "      <td>0.418820</td>\n",
       "      <td>1.969527</td>\n",
       "      <td>0.070034</td>\n",
       "      <td>6.000000</td>\n",
       "      <td>12.847635</td>\n",
       "      <td>0.995370</td>\n",
       "      <td>3.316095</td>\n",
       "      <td>0.728991</td>\n",
       "      <td>11.700000</td>\n",
       "    </tr>\n",
       "  </tbody>\n",
       "</table>\n",
       "<p>2423 rows × 11 columns</p>\n",
       "</div>"
      ],
      "text/plain": [
       "      Parameter 1  Parameter 2  Parameter 3  Parameter 4  Parameter 5  \\\n",
       "1041    10.500000     0.360000     0.470000     2.200000     0.074000   \n",
       "2923     8.441414     0.370190     0.457352     2.090564     0.065434   \n",
       "3106    11.070216     0.332142     0.623382     2.159743     0.069585   \n",
       "1237     7.900000     0.200000     0.350000     1.700000     0.054000   \n",
       "3348     5.506659     0.513973     0.031332     1.773364     0.044067   \n",
       "...           ...          ...          ...          ...          ...   \n",
       "1095    11.300000     0.370000     0.500000     1.800000     0.090000   \n",
       "1130     7.400000     0.600000     0.260000     2.100000     0.083000   \n",
       "1294     6.800000     0.470000     0.080000     2.200000     0.064000   \n",
       "860      8.900000     0.320000     0.310000     2.000000     0.088000   \n",
       "3174     8.735622     0.399657     0.418820     1.969527     0.070034   \n",
       "\n",
       "      Parameter 6  Parameter 7  Parameter 8  Parameter 9  Parameter 10  \\\n",
       "1041     9.000000    23.000000     0.996380     3.230000      0.760000   \n",
       "2923    13.113371    40.490830     0.994870     3.339633      0.776225   \n",
       "3106     8.616736    33.227035     0.997291     3.049081      0.803897   \n",
       "1237     7.000000    15.000000     0.994580     3.320000      0.800000   \n",
       "3348    26.934549    87.066591     0.990907     3.503995      0.820000   \n",
       "...           ...          ...          ...          ...           ...   \n",
       "1095    20.000000    47.000000     0.997340     3.150000      0.570000   \n",
       "1130    17.000000    91.000000     0.996160     3.290000      0.560000   \n",
       "1294    18.000000    38.000000     0.995530     3.300000      0.650000   \n",
       "860     12.000000    19.000000     0.995700     3.170000      0.550000   \n",
       "3174     6.000000    12.847635     0.995370     3.316095      0.728991   \n",
       "\n",
       "      Parameter 11  \n",
       "1041     12.000000  \n",
       "2923     12.098166  \n",
       "3106     10.645407  \n",
       "1237     11.900000  \n",
       "3348     13.926750  \n",
       "...            ...  \n",
       "1095     10.500000  \n",
       "1130      9.800000  \n",
       "1294      9.600000  \n",
       "860      10.400000  \n",
       "3174     11.700000  \n",
       "\n",
       "[2423 rows x 11 columns]"
      ]
     },
     "execution_count": 29,
     "metadata": {},
     "output_type": "execute_result"
    }
   ],
   "source": [
    "X_train"
   ]
  },
  {
   "cell_type": "markdown",
   "metadata": {},
   "source": [
    "# E. Transform Labels into format acceptable by Neural Network"
   ]
  },
  {
   "cell_type": "code",
   "execution_count": 30,
   "metadata": {},
   "outputs": [],
   "source": [
    "y_train = tf.keras.utils.to_categorical(y_train,num_classes=6)\n",
    "y_test = tf.keras.utils.to_categorical(y_test,num_classes=6)"
   ]
  },
  {
   "cell_type": "code",
   "execution_count": 31,
   "metadata": {},
   "outputs": [
    {
     "data": {
      "text/plain": [
       "array([[0., 0., 0., 1., 0., 0.],\n",
       "       [0., 0., 0., 0., 0., 1.],\n",
       "       [0., 0., 0., 0., 0., 1.],\n",
       "       ...,\n",
       "       [0., 0., 0., 1., 0., 0.],\n",
       "       [0., 0., 0., 1., 0., 0.],\n",
       "       [0., 0., 0., 0., 0., 1.]], dtype=float32)"
      ]
     },
     "execution_count": 31,
     "metadata": {},
     "output_type": "execute_result"
    }
   ],
   "source": [
    "y_train"
   ]
  },
  {
   "cell_type": "code",
   "execution_count": 32,
   "metadata": {},
   "outputs": [
    {
     "data": {
      "text/plain": [
       "(2423, 6)"
      ]
     },
     "execution_count": 32,
     "metadata": {},
     "output_type": "execute_result"
    }
   ],
   "source": [
    "y_train.shape"
   ]
  },
  {
   "cell_type": "code",
   "execution_count": 33,
   "metadata": {},
   "outputs": [
    {
     "data": {
      "text/plain": [
       "(1039, 6)"
      ]
     },
     "execution_count": 33,
     "metadata": {},
     "output_type": "execute_result"
    }
   ],
   "source": [
    "y_test.shape"
   ]
  },
  {
   "cell_type": "markdown",
   "metadata": {},
   "source": [
    "# 3. Model Training & Evaluation using Neural Network"
   ]
  },
  {
   "cell_type": "markdown",
   "metadata": {},
   "source": [
    "# A. Design a Neural Network to train a classifier"
   ]
  },
  {
   "cell_type": "code",
   "execution_count": 34,
   "metadata": {},
   "outputs": [],
   "source": [
    "model=Sequential()"
   ]
  },
  {
   "cell_type": "code",
   "execution_count": 35,
   "metadata": {},
   "outputs": [],
   "source": [
    "n_cols=X_train.shape[1]"
   ]
  },
  {
   "cell_type": "code",
   "execution_count": 36,
   "metadata": {},
   "outputs": [
    {
     "data": {
      "text/plain": [
       "11"
      ]
     },
     "execution_count": 36,
     "metadata": {},
     "output_type": "execute_result"
    }
   ],
   "source": [
    "n_cols"
   ]
  },
  {
   "cell_type": "code",
   "execution_count": 37,
   "metadata": {},
   "outputs": [],
   "source": [
    "model.add(Dense(44,activation='relu',input_shape=(n_cols,)))\n",
    "model.add(Dense(22,activation='relu'))\n",
    "#model.add(Dense(120,activation='relu'))\n",
    "#model.add(Dense(10,activation='relu'))\n",
    "model.add(Dense(6,activation='softmax'))"
   ]
  },
  {
   "cell_type": "code",
   "execution_count": 38,
   "metadata": {},
   "outputs": [],
   "source": [
    "model.compile(loss = tf.keras.losses.categorical_crossentropy,metrics = ['accuracy'])"
   ]
  },
  {
   "cell_type": "code",
   "execution_count": 39,
   "metadata": {},
   "outputs": [
    {
     "name": "stdout",
     "output_type": "stream",
     "text": [
      "Model: \"sequential\"\n",
      "_________________________________________________________________\n",
      " Layer (type)                Output Shape              Param #   \n",
      "=================================================================\n",
      " dense (Dense)               (None, 44)                528       \n",
      "                                                                 \n",
      " dense_1 (Dense)             (None, 22)                990       \n",
      "                                                                 \n",
      " dense_2 (Dense)             (None, 6)                 138       \n",
      "                                                                 \n",
      "=================================================================\n",
      "Total params: 1,656\n",
      "Trainable params: 1,656\n",
      "Non-trainable params: 0\n",
      "_________________________________________________________________\n"
     ]
    }
   ],
   "source": [
    "model.summary()"
   ]
  },
  {
   "cell_type": "markdown",
   "metadata": {},
   "source": [
    "# B. Train the classifier using previously designed Architecture"
   ]
  },
  {
   "cell_type": "code",
   "execution_count": 40,
   "metadata": {},
   "outputs": [
    {
     "name": "stdout",
     "output_type": "stream",
     "text": [
      "Epoch 1/120\n",
      "61/61 [==============================] - 1s 5ms/step - loss: 1.6341 - accuracy: 0.3416 - val_loss: 1.4315 - val_accuracy: 0.5402\n",
      "Epoch 2/120\n",
      "61/61 [==============================] - 0s 2ms/step - loss: 1.2981 - accuracy: 0.5077 - val_loss: 1.1736 - val_accuracy: 0.5711\n",
      "Epoch 3/120\n",
      "61/61 [==============================] - 0s 2ms/step - loss: 1.1209 - accuracy: 0.5449 - val_loss: 1.0630 - val_accuracy: 0.5753\n",
      "Epoch 4/120\n",
      "61/61 [==============================] - 0s 2ms/step - loss: 1.0304 - accuracy: 0.5826 - val_loss: 0.9972 - val_accuracy: 0.5959\n",
      "Epoch 5/120\n",
      "61/61 [==============================] - 0s 2ms/step - loss: 0.9768 - accuracy: 0.5882 - val_loss: 0.9593 - val_accuracy: 0.6186\n",
      "Epoch 6/120\n",
      "61/61 [==============================] - 0s 2ms/step - loss: 0.9388 - accuracy: 0.6068 - val_loss: 0.9270 - val_accuracy: 0.6124\n",
      "Epoch 7/120\n",
      "61/61 [==============================] - 0s 2ms/step - loss: 0.9074 - accuracy: 0.6233 - val_loss: 0.8956 - val_accuracy: 0.6289\n",
      "Epoch 8/120\n",
      "61/61 [==============================] - 0s 2ms/step - loss: 0.8808 - accuracy: 0.6440 - val_loss: 0.8730 - val_accuracy: 0.6495\n",
      "Epoch 9/120\n",
      "61/61 [==============================] - 0s 2ms/step - loss: 0.8556 - accuracy: 0.6465 - val_loss: 0.8562 - val_accuracy: 0.6577\n",
      "Epoch 10/120\n",
      "61/61 [==============================] - 0s 2ms/step - loss: 0.8346 - accuracy: 0.6589 - val_loss: 0.8423 - val_accuracy: 0.6639\n",
      "Epoch 11/120\n",
      "61/61 [==============================] - 0s 2ms/step - loss: 0.8161 - accuracy: 0.6692 - val_loss: 0.8266 - val_accuracy: 0.6722\n",
      "Epoch 12/120\n",
      "61/61 [==============================] - 0s 2ms/step - loss: 0.7957 - accuracy: 0.6811 - val_loss: 0.8240 - val_accuracy: 0.6701\n",
      "Epoch 13/120\n",
      "61/61 [==============================] - 0s 2ms/step - loss: 0.7791 - accuracy: 0.6914 - val_loss: 0.8124 - val_accuracy: 0.6619\n",
      "Epoch 14/120\n",
      "61/61 [==============================] - 0s 2ms/step - loss: 0.7640 - accuracy: 0.7012 - val_loss: 0.7873 - val_accuracy: 0.6969\n",
      "Epoch 15/120\n",
      "61/61 [==============================] - 0s 2ms/step - loss: 0.7494 - accuracy: 0.7110 - val_loss: 0.7848 - val_accuracy: 0.6928\n",
      "Epoch 16/120\n",
      "61/61 [==============================] - 0s 2ms/step - loss: 0.7348 - accuracy: 0.7162 - val_loss: 0.7827 - val_accuracy: 0.6866\n",
      "Epoch 17/120\n",
      "61/61 [==============================] - 0s 2ms/step - loss: 0.7226 - accuracy: 0.7250 - val_loss: 0.7620 - val_accuracy: 0.6990\n",
      "Epoch 18/120\n",
      "61/61 [==============================] - 0s 2ms/step - loss: 0.7103 - accuracy: 0.7296 - val_loss: 0.7579 - val_accuracy: 0.6969\n",
      "Epoch 19/120\n",
      "61/61 [==============================] - 0s 2ms/step - loss: 0.6968 - accuracy: 0.7332 - val_loss: 0.7553 - val_accuracy: 0.6928\n",
      "Epoch 20/120\n",
      "61/61 [==============================] - 0s 2ms/step - loss: 0.6842 - accuracy: 0.7410 - val_loss: 0.7444 - val_accuracy: 0.6990\n",
      "Epoch 21/120\n",
      "61/61 [==============================] - 0s 2ms/step - loss: 0.6720 - accuracy: 0.7451 - val_loss: 0.7302 - val_accuracy: 0.7216\n",
      "Epoch 22/120\n",
      "61/61 [==============================] - 0s 2ms/step - loss: 0.6631 - accuracy: 0.7523 - val_loss: 0.7300 - val_accuracy: 0.7216\n",
      "Epoch 23/120\n",
      "61/61 [==============================] - 0s 2ms/step - loss: 0.6517 - accuracy: 0.7580 - val_loss: 0.7241 - val_accuracy: 0.7134\n",
      "Epoch 24/120\n",
      "61/61 [==============================] - 0s 2ms/step - loss: 0.6378 - accuracy: 0.7642 - val_loss: 0.7122 - val_accuracy: 0.7381\n",
      "Epoch 25/120\n",
      "61/61 [==============================] - 0s 2ms/step - loss: 0.6318 - accuracy: 0.7683 - val_loss: 0.7120 - val_accuracy: 0.7155\n",
      "Epoch 26/120\n",
      "61/61 [==============================] - 0s 2ms/step - loss: 0.6214 - accuracy: 0.7761 - val_loss: 0.7078 - val_accuracy: 0.7320\n",
      "Epoch 27/120\n",
      "61/61 [==============================] - 0s 2ms/step - loss: 0.6123 - accuracy: 0.7781 - val_loss: 0.6945 - val_accuracy: 0.7237\n",
      "Epoch 28/120\n",
      "61/61 [==============================] - 0s 2ms/step - loss: 0.6038 - accuracy: 0.7786 - val_loss: 0.6965 - val_accuracy: 0.7299\n",
      "Epoch 29/120\n",
      "61/61 [==============================] - 0s 2ms/step - loss: 0.5967 - accuracy: 0.7822 - val_loss: 0.6893 - val_accuracy: 0.7237\n",
      "Epoch 30/120\n",
      "61/61 [==============================] - 0s 2ms/step - loss: 0.5864 - accuracy: 0.7879 - val_loss: 0.6852 - val_accuracy: 0.7320\n",
      "Epoch 31/120\n",
      "61/61 [==============================] - 0s 2ms/step - loss: 0.5805 - accuracy: 0.7915 - val_loss: 0.6811 - val_accuracy: 0.7402\n",
      "Epoch 32/120\n",
      "61/61 [==============================] - 0s 2ms/step - loss: 0.5744 - accuracy: 0.7879 - val_loss: 0.6791 - val_accuracy: 0.7381\n",
      "Epoch 33/120\n",
      "61/61 [==============================] - 0s 2ms/step - loss: 0.5674 - accuracy: 0.7879 - val_loss: 0.6757 - val_accuracy: 0.7361\n",
      "Epoch 34/120\n",
      "61/61 [==============================] - 0s 2ms/step - loss: 0.5607 - accuracy: 0.7946 - val_loss: 0.6728 - val_accuracy: 0.7402\n",
      "Epoch 35/120\n",
      "61/61 [==============================] - 0s 2ms/step - loss: 0.5549 - accuracy: 0.7988 - val_loss: 0.6668 - val_accuracy: 0.7423\n",
      "Epoch 36/120\n",
      "61/61 [==============================] - 0s 2ms/step - loss: 0.5473 - accuracy: 0.7921 - val_loss: 0.6628 - val_accuracy: 0.7505\n",
      "Epoch 37/120\n",
      "61/61 [==============================] - 0s 2ms/step - loss: 0.5417 - accuracy: 0.7967 - val_loss: 0.6614 - val_accuracy: 0.7361\n",
      "Epoch 38/120\n",
      "61/61 [==============================] - 0s 2ms/step - loss: 0.5354 - accuracy: 0.8029 - val_loss: 0.6634 - val_accuracy: 0.7423\n",
      "Epoch 39/120\n",
      "61/61 [==============================] - 0s 2ms/step - loss: 0.5308 - accuracy: 0.7998 - val_loss: 0.6467 - val_accuracy: 0.7546\n",
      "Epoch 40/120\n",
      "61/61 [==============================] - 0s 2ms/step - loss: 0.5237 - accuracy: 0.7998 - val_loss: 0.6543 - val_accuracy: 0.7546\n",
      "Epoch 41/120\n",
      "61/61 [==============================] - 0s 2ms/step - loss: 0.5192 - accuracy: 0.8008 - val_loss: 0.6478 - val_accuracy: 0.7464\n",
      "Epoch 42/120\n",
      "61/61 [==============================] - 0s 2ms/step - loss: 0.5167 - accuracy: 0.8101 - val_loss: 0.6477 - val_accuracy: 0.7588\n",
      "Epoch 43/120\n",
      "61/61 [==============================] - 0s 2ms/step - loss: 0.5114 - accuracy: 0.8070 - val_loss: 0.6418 - val_accuracy: 0.7526\n",
      "Epoch 44/120\n",
      "61/61 [==============================] - 0s 2ms/step - loss: 0.5060 - accuracy: 0.8096 - val_loss: 0.6424 - val_accuracy: 0.7546\n",
      "Epoch 45/120\n",
      "61/61 [==============================] - 0s 2ms/step - loss: 0.5020 - accuracy: 0.8086 - val_loss: 0.6357 - val_accuracy: 0.7546\n",
      "Epoch 46/120\n",
      "61/61 [==============================] - 0s 2ms/step - loss: 0.4958 - accuracy: 0.8122 - val_loss: 0.6495 - val_accuracy: 0.7381\n",
      "Epoch 47/120\n",
      "61/61 [==============================] - 0s 2ms/step - loss: 0.4925 - accuracy: 0.8142 - val_loss: 0.6476 - val_accuracy: 0.7320\n",
      "Epoch 48/120\n",
      "61/61 [==============================] - 0s 2ms/step - loss: 0.4888 - accuracy: 0.8184 - val_loss: 0.6337 - val_accuracy: 0.7443\n",
      "Epoch 49/120\n",
      "61/61 [==============================] - 0s 2ms/step - loss: 0.4833 - accuracy: 0.8168 - val_loss: 0.6430 - val_accuracy: 0.7464\n",
      "Epoch 50/120\n",
      "61/61 [==============================] - 0s 2ms/step - loss: 0.4819 - accuracy: 0.8111 - val_loss: 0.6290 - val_accuracy: 0.7588\n",
      "Epoch 51/120\n",
      "61/61 [==============================] - 0s 2ms/step - loss: 0.4776 - accuracy: 0.8173 - val_loss: 0.6266 - val_accuracy: 0.7485\n",
      "Epoch 52/120\n",
      "61/61 [==============================] - 0s 2ms/step - loss: 0.4731 - accuracy: 0.8179 - val_loss: 0.6252 - val_accuracy: 0.7505\n",
      "Epoch 53/120\n",
      "61/61 [==============================] - 0s 2ms/step - loss: 0.4696 - accuracy: 0.8173 - val_loss: 0.6256 - val_accuracy: 0.7526\n",
      "Epoch 54/120\n",
      "61/61 [==============================] - 0s 2ms/step - loss: 0.4648 - accuracy: 0.8184 - val_loss: 0.6295 - val_accuracy: 0.7423\n",
      "Epoch 55/120\n",
      "61/61 [==============================] - 0s 3ms/step - loss: 0.4615 - accuracy: 0.8199 - val_loss: 0.6298 - val_accuracy: 0.7629\n",
      "Epoch 56/120\n",
      "61/61 [==============================] - 0s 2ms/step - loss: 0.4587 - accuracy: 0.8204 - val_loss: 0.6262 - val_accuracy: 0.7670\n",
      "Epoch 57/120\n",
      "61/61 [==============================] - 0s 2ms/step - loss: 0.4524 - accuracy: 0.8230 - val_loss: 0.6181 - val_accuracy: 0.7588\n",
      "Epoch 58/120\n",
      "61/61 [==============================] - 0s 2ms/step - loss: 0.4490 - accuracy: 0.8261 - val_loss: 0.6202 - val_accuracy: 0.7608\n"
     ]
    },
    {
     "name": "stdout",
     "output_type": "stream",
     "text": [
      "Epoch 59/120\n",
      "61/61 [==============================] - 0s 2ms/step - loss: 0.4475 - accuracy: 0.8277 - val_loss: 0.6354 - val_accuracy: 0.7402\n",
      "Epoch 60/120\n",
      "61/61 [==============================] - 0s 2ms/step - loss: 0.4438 - accuracy: 0.8282 - val_loss: 0.6211 - val_accuracy: 0.7443\n",
      "Epoch 61/120\n",
      "61/61 [==============================] - 0s 2ms/step - loss: 0.4407 - accuracy: 0.8266 - val_loss: 0.6215 - val_accuracy: 0.7526\n",
      "Epoch 62/120\n",
      "61/61 [==============================] - 0s 2ms/step - loss: 0.4379 - accuracy: 0.8344 - val_loss: 0.6106 - val_accuracy: 0.7546\n",
      "Epoch 63/120\n",
      "61/61 [==============================] - 0s 4ms/step - loss: 0.4331 - accuracy: 0.8375 - val_loss: 0.6195 - val_accuracy: 0.7526\n",
      "Epoch 64/120\n",
      "61/61 [==============================] - 0s 3ms/step - loss: 0.4305 - accuracy: 0.8364 - val_loss: 0.6260 - val_accuracy: 0.7649\n",
      "Epoch 65/120\n",
      "61/61 [==============================] - 0s 2ms/step - loss: 0.4288 - accuracy: 0.8344 - val_loss: 0.6088 - val_accuracy: 0.7608\n",
      "Epoch 66/120\n",
      "61/61 [==============================] - 0s 2ms/step - loss: 0.4233 - accuracy: 0.8406 - val_loss: 0.6151 - val_accuracy: 0.7485\n",
      "Epoch 67/120\n",
      "61/61 [==============================] - 0s 2ms/step - loss: 0.4239 - accuracy: 0.8364 - val_loss: 0.6082 - val_accuracy: 0.7546\n",
      "Epoch 68/120\n",
      "61/61 [==============================] - 0s 2ms/step - loss: 0.4186 - accuracy: 0.8359 - val_loss: 0.6260 - val_accuracy: 0.7629\n",
      "Epoch 69/120\n",
      "61/61 [==============================] - 0s 2ms/step - loss: 0.4147 - accuracy: 0.8416 - val_loss: 0.6071 - val_accuracy: 0.7588\n",
      "Epoch 70/120\n",
      "61/61 [==============================] - 0s 2ms/step - loss: 0.4134 - accuracy: 0.8457 - val_loss: 0.6088 - val_accuracy: 0.7608\n",
      "Epoch 71/120\n",
      "61/61 [==============================] - 0s 2ms/step - loss: 0.4109 - accuracy: 0.8447 - val_loss: 0.6114 - val_accuracy: 0.7608\n",
      "Epoch 72/120\n",
      "61/61 [==============================] - 0s 2ms/step - loss: 0.4080 - accuracy: 0.8406 - val_loss: 0.6075 - val_accuracy: 0.7732\n",
      "Epoch 73/120\n",
      "61/61 [==============================] - 0s 2ms/step - loss: 0.4063 - accuracy: 0.8437 - val_loss: 0.6005 - val_accuracy: 0.7588\n",
      "Epoch 74/120\n",
      "61/61 [==============================] - 0s 2ms/step - loss: 0.4017 - accuracy: 0.8442 - val_loss: 0.6048 - val_accuracy: 0.7567\n",
      "Epoch 75/120\n",
      "61/61 [==============================] - 0s 2ms/step - loss: 0.4028 - accuracy: 0.8421 - val_loss: 0.5973 - val_accuracy: 0.7629\n",
      "Epoch 76/120\n",
      "61/61 [==============================] - 0s 2ms/step - loss: 0.3963 - accuracy: 0.8488 - val_loss: 0.6106 - val_accuracy: 0.7588\n",
      "Epoch 77/120\n",
      "61/61 [==============================] - 0s 2ms/step - loss: 0.3972 - accuracy: 0.8447 - val_loss: 0.5984 - val_accuracy: 0.7629\n",
      "Epoch 78/120\n",
      "61/61 [==============================] - 0s 2ms/step - loss: 0.3936 - accuracy: 0.8467 - val_loss: 0.6012 - val_accuracy: 0.7608\n",
      "Epoch 79/120\n",
      "61/61 [==============================] - 0s 2ms/step - loss: 0.3913 - accuracy: 0.8498 - val_loss: 0.6034 - val_accuracy: 0.7649\n",
      "Epoch 80/120\n",
      "61/61 [==============================] - 0s 2ms/step - loss: 0.3895 - accuracy: 0.8498 - val_loss: 0.6004 - val_accuracy: 0.7711\n",
      "Epoch 81/120\n",
      "61/61 [==============================] - 0s 2ms/step - loss: 0.3861 - accuracy: 0.8560 - val_loss: 0.6014 - val_accuracy: 0.7691\n",
      "Epoch 82/120\n",
      "61/61 [==============================] - 0s 2ms/step - loss: 0.3843 - accuracy: 0.8550 - val_loss: 0.6086 - val_accuracy: 0.7629\n",
      "Epoch 83/120\n",
      "61/61 [==============================] - 0s 2ms/step - loss: 0.3822 - accuracy: 0.8509 - val_loss: 0.5969 - val_accuracy: 0.7773\n",
      "Epoch 84/120\n",
      "61/61 [==============================] - 0s 2ms/step - loss: 0.3804 - accuracy: 0.8535 - val_loss: 0.5971 - val_accuracy: 0.7711\n",
      "Epoch 85/120\n",
      "61/61 [==============================] - 0s 2ms/step - loss: 0.3764 - accuracy: 0.8524 - val_loss: 0.5999 - val_accuracy: 0.7670\n",
      "Epoch 86/120\n",
      "61/61 [==============================] - 0s 2ms/step - loss: 0.3751 - accuracy: 0.8560 - val_loss: 0.6026 - val_accuracy: 0.7629\n",
      "Epoch 87/120\n",
      "61/61 [==============================] - 0s 2ms/step - loss: 0.3737 - accuracy: 0.8576 - val_loss: 0.5935 - val_accuracy: 0.7711\n",
      "Epoch 88/120\n",
      "61/61 [==============================] - 0s 2ms/step - loss: 0.3702 - accuracy: 0.8566 - val_loss: 0.5908 - val_accuracy: 0.7711\n",
      "Epoch 89/120\n",
      "61/61 [==============================] - 0s 2ms/step - loss: 0.3695 - accuracy: 0.8550 - val_loss: 0.5939 - val_accuracy: 0.7608\n",
      "Epoch 90/120\n",
      "61/61 [==============================] - 0s 2ms/step - loss: 0.3665 - accuracy: 0.8535 - val_loss: 0.5946 - val_accuracy: 0.7711\n",
      "Epoch 91/120\n",
      "61/61 [==============================] - 0s 2ms/step - loss: 0.3636 - accuracy: 0.8602 - val_loss: 0.6037 - val_accuracy: 0.7732\n",
      "Epoch 92/120\n",
      "61/61 [==============================] - 0s 2ms/step - loss: 0.3620 - accuracy: 0.8591 - val_loss: 0.5913 - val_accuracy: 0.7773\n",
      "Epoch 93/120\n",
      "61/61 [==============================] - 0s 2ms/step - loss: 0.3598 - accuracy: 0.8638 - val_loss: 0.6034 - val_accuracy: 0.7773\n",
      "Epoch 94/120\n",
      "61/61 [==============================] - 0s 2ms/step - loss: 0.3558 - accuracy: 0.8576 - val_loss: 0.5978 - val_accuracy: 0.7629\n",
      "Epoch 95/120\n",
      "61/61 [==============================] - 0s 2ms/step - loss: 0.3539 - accuracy: 0.8622 - val_loss: 0.5920 - val_accuracy: 0.7711\n",
      "Epoch 96/120\n",
      "61/61 [==============================] - 0s 2ms/step - loss: 0.3529 - accuracy: 0.8643 - val_loss: 0.5926 - val_accuracy: 0.7691\n",
      "Epoch 97/120\n",
      "61/61 [==============================] - 0s 2ms/step - loss: 0.3499 - accuracy: 0.8643 - val_loss: 0.5914 - val_accuracy: 0.7670\n",
      "Epoch 98/120\n",
      "61/61 [==============================] - 0s 2ms/step - loss: 0.3479 - accuracy: 0.8674 - val_loss: 0.5913 - val_accuracy: 0.7691\n",
      "Epoch 99/120\n",
      "61/61 [==============================] - 0s 2ms/step - loss: 0.3457 - accuracy: 0.8612 - val_loss: 0.5951 - val_accuracy: 0.7691\n",
      "Epoch 100/120\n",
      "61/61 [==============================] - 0s 2ms/step - loss: 0.3452 - accuracy: 0.8674 - val_loss: 0.5855 - val_accuracy: 0.7649\n",
      "Epoch 101/120\n",
      "61/61 [==============================] - 0s 2ms/step - loss: 0.3429 - accuracy: 0.8695 - val_loss: 0.5937 - val_accuracy: 0.7753\n",
      "Epoch 102/120\n",
      "61/61 [==============================] - 0s 2ms/step - loss: 0.3418 - accuracy: 0.8684 - val_loss: 0.5891 - val_accuracy: 0.7732\n",
      "Epoch 103/120\n",
      "61/61 [==============================] - 0s 2ms/step - loss: 0.3379 - accuracy: 0.8679 - val_loss: 0.5880 - val_accuracy: 0.7711\n",
      "Epoch 104/120\n",
      "61/61 [==============================] - 0s 2ms/step - loss: 0.3365 - accuracy: 0.8710 - val_loss: 0.6008 - val_accuracy: 0.7753\n",
      "Epoch 105/120\n",
      "61/61 [==============================] - 0s 2ms/step - loss: 0.3358 - accuracy: 0.8684 - val_loss: 0.6009 - val_accuracy: 0.7794\n",
      "Epoch 106/120\n",
      "61/61 [==============================] - 0s 2ms/step - loss: 0.3332 - accuracy: 0.8741 - val_loss: 0.5916 - val_accuracy: 0.7753\n",
      "Epoch 107/120\n",
      "61/61 [==============================] - 0s 2ms/step - loss: 0.3327 - accuracy: 0.8746 - val_loss: 0.5851 - val_accuracy: 0.7773\n",
      "Epoch 108/120\n",
      "61/61 [==============================] - 0s 2ms/step - loss: 0.3289 - accuracy: 0.8756 - val_loss: 0.5922 - val_accuracy: 0.7794\n",
      "Epoch 109/120\n",
      "61/61 [==============================] - 0s 2ms/step - loss: 0.3291 - accuracy: 0.8751 - val_loss: 0.5812 - val_accuracy: 0.7670\n",
      "Epoch 110/120\n",
      "61/61 [==============================] - 0s 2ms/step - loss: 0.3253 - accuracy: 0.8762 - val_loss: 0.5845 - val_accuracy: 0.7691\n",
      "Epoch 111/120\n",
      "61/61 [==============================] - 0s 2ms/step - loss: 0.3243 - accuracy: 0.8715 - val_loss: 0.5906 - val_accuracy: 0.7711\n",
      "Epoch 112/120\n",
      "61/61 [==============================] - 0s 2ms/step - loss: 0.3215 - accuracy: 0.8777 - val_loss: 0.5869 - val_accuracy: 0.7835\n",
      "Epoch 113/120\n",
      "61/61 [==============================] - 0s 2ms/step - loss: 0.3205 - accuracy: 0.8787 - val_loss: 0.5903 - val_accuracy: 0.7691\n",
      "Epoch 114/120\n",
      "61/61 [==============================] - 0s 2ms/step - loss: 0.3176 - accuracy: 0.8736 - val_loss: 0.6006 - val_accuracy: 0.7773\n",
      "Epoch 115/120\n",
      "61/61 [==============================] - 0s 2ms/step - loss: 0.3167 - accuracy: 0.8803 - val_loss: 0.5878 - val_accuracy: 0.7835\n",
      "Epoch 116/120\n",
      "61/61 [==============================] - 0s 2ms/step - loss: 0.3148 - accuracy: 0.8808 - val_loss: 0.5825 - val_accuracy: 0.7773\n",
      "Epoch 117/120\n",
      "61/61 [==============================] - 0s 2ms/step - loss: 0.3143 - accuracy: 0.8793 - val_loss: 0.5874 - val_accuracy: 0.7835\n",
      "Epoch 118/120\n",
      "61/61 [==============================] - 0s 2ms/step - loss: 0.3105 - accuracy: 0.8798 - val_loss: 0.5884 - val_accuracy: 0.7753\n",
      "Epoch 119/120\n",
      "61/61 [==============================] - 0s 2ms/step - loss: 0.3102 - accuracy: 0.8875 - val_loss: 0.5806 - val_accuracy: 0.7814\n",
      "Epoch 120/120\n",
      "61/61 [==============================] - 0s 2ms/step - loss: 0.3097 - accuracy: 0.8818 - val_loss: 0.5810 - val_accuracy: 0.7856\n"
     ]
    }
   ],
   "source": [
    "#early_stopping_monitor=EarlyStopping(patience=3)\n",
    "history=model.fit(X_Scale_train,y_train,validation_split=0.2,epochs=120,batch_size=32)"
   ]
  },
  {
   "cell_type": "code",
   "execution_count": 41,
   "metadata": {},
   "outputs": [
    {
     "name": "stdout",
     "output_type": "stream",
     "text": [
      "33/33 [==============================] - 0s 1ms/step - loss: 0.6604 - accuracy: 0.7555\n"
     ]
    }
   ],
   "source": [
    "results = model.evaluate(X_Scale_test, y_test)"
   ]
  },
  {
   "cell_type": "code",
   "execution_count": 42,
   "metadata": {},
   "outputs": [
    {
     "name": "stdout",
     "output_type": "stream",
     "text": [
      "['loss', 'accuracy']\n",
      "[0.660385251045227, 0.7555341720581055]\n"
     ]
    }
   ],
   "source": [
    "print(model.metrics_names)\n",
    "print(results)"
   ]
  },
  {
   "cell_type": "markdown",
   "metadata": {},
   "source": [
    "# C.Plot 2 separate visuals."
   ]
  },
  {
   "cell_type": "markdown",
   "metadata": {},
   "source": [
    "Training Loss and Validation Loss"
   ]
  },
  {
   "cell_type": "code",
   "execution_count": 43,
   "metadata": {},
   "outputs": [
    {
     "data": {
      "image/png": "[encoded data removed]",
      "text/plain": [
       "<Figure size 640x480 with 1 Axes>"
      ]
     },
     "metadata": {},
     "output_type": "display_data"
    }
   ],
   "source": [
    "loss, accuracy  = model.evaluate(X_train, y_train, verbose=False)\n",
    "    \n",
    "plt.plot(history.history['loss'])\n",
    "plt.plot(history.history['val_loss'])\n",
    "plt.title('model loss')\n",
    "plt.ylabel('loss')\n",
    "plt.xlabel('epoch')\n",
    "plt.legend(['training', 'validation'], loc='best')\n",
    "plt.show()"
   ]
  },
  {
   "cell_type": "markdown",
   "metadata": {},
   "source": [
    "# Training Accuracy and Validation Accuracy"
   ]
  },
  {
   "cell_type": "code",
   "execution_count": 44,
   "metadata": {},
   "outputs": [
    {
     "data": {
      "image/png": "[encoded data removed]",
      "text/plain": [
       "<Figure size 640x480 with 1 Axes>"
      ]
     },
     "metadata": {},
     "output_type": "display_data"
    }
   ],
   "source": [
    "loss, accuracy  = model.evaluate(X_train, y_train, verbose=False)\n",
    "    \n",
    "plt.plot(history.history['accuracy'])\n",
    "plt.plot(history.history['val_accuracy'])\n",
    "plt.title('model accuracy')\n",
    "plt.ylabel('accuracy')\n",
    "plt.xlabel('epoch')\n",
    "plt.legend(['training', 'validation'], loc='best')\n",
    "plt.show()"
   ]
  },
  {
   "cell_type": "markdown",
   "metadata": {},
   "source": [
    "# Design new architecture/update existing architecture in attempt to improve the performance of the model"
   ]
  },
  {
   "cell_type": "code",
   "execution_count": 45,
   "metadata": {},
   "outputs": [],
   "source": [
    "model=Sequential()"
   ]
  },
  {
   "cell_type": "code",
   "execution_count": 46,
   "metadata": {},
   "outputs": [],
   "source": [
    "model.add(Dense(31,activation='relu',input_shape=(n_cols,)))\n",
    "model.add(Dense(21,activation='relu'))\n",
    "#model.add(Dropout(0.5))\n",
    "#model.add(BatchNormalization())\n",
    "#model.add(Dense(120,activation='relu'))\n",
    "#model.add(Dense(10,activation='relu'))\n",
    "model.add(Dense(6,activation='softmax'))"
   ]
  },
  {
   "cell_type": "code",
   "execution_count": 47,
   "metadata": {},
   "outputs": [],
   "source": [
    "model.compile(loss = tf.keras.losses.categorical_crossentropy,metrics = ['accuracy'])"
   ]
  },
  {
   "cell_type": "code",
   "execution_count": 48,
   "metadata": {
    "scrolled": true
   },
   "outputs": [
    {
     "name": "stdout",
     "output_type": "stream",
     "text": [
      "Epoch 1/40\n",
      "61/61 [==============================] - 1s 4ms/step - loss: 1.5664 - accuracy: 0.3545 - val_loss: 1.4388 - val_accuracy: 0.4186\n",
      "Epoch 2/40\n",
      "61/61 [==============================] - 0s 2ms/step - loss: 1.3432 - accuracy: 0.4381 - val_loss: 1.2764 - val_accuracy: 0.4845\n",
      "Epoch 3/40\n",
      "61/61 [==============================] - 0s 2ms/step - loss: 1.2120 - accuracy: 0.4933 - val_loss: 1.1744 - val_accuracy: 0.5155\n",
      "Epoch 4/40\n",
      "61/61 [==============================] - 0s 2ms/step - loss: 1.1277 - accuracy: 0.5248 - val_loss: 1.0914 - val_accuracy: 0.5753\n",
      "Epoch 5/40\n",
      "61/61 [==============================] - 0s 2ms/step - loss: 1.0661 - accuracy: 0.5573 - val_loss: 1.0373 - val_accuracy: 0.5938\n",
      "Epoch 6/40\n",
      "61/61 [==============================] - 0s 2ms/step - loss: 1.0141 - accuracy: 0.5779 - val_loss: 0.9913 - val_accuracy: 0.5897\n",
      "Epoch 7/40\n",
      "61/61 [==============================] - 0s 2ms/step - loss: 0.9735 - accuracy: 0.5996 - val_loss: 0.9495 - val_accuracy: 0.6227\n",
      "Epoch 8/40\n",
      "61/61 [==============================] - 0s 2ms/step - loss: 0.9404 - accuracy: 0.6156 - val_loss: 0.9148 - val_accuracy: 0.6330\n",
      "Epoch 9/40\n",
      "61/61 [==============================] - 0s 2ms/step - loss: 0.9113 - accuracy: 0.6223 - val_loss: 0.8947 - val_accuracy: 0.6392\n",
      "Epoch 10/40\n",
      "61/61 [==============================] - 0s 2ms/step - loss: 0.8879 - accuracy: 0.6305 - val_loss: 0.8746 - val_accuracy: 0.6495\n",
      "Epoch 11/40\n",
      "61/61 [==============================] - 0s 2ms/step - loss: 0.8649 - accuracy: 0.6409 - val_loss: 0.8489 - val_accuracy: 0.6639\n",
      "Epoch 12/40\n",
      "61/61 [==============================] - 0s 2ms/step - loss: 0.8444 - accuracy: 0.6553 - val_loss: 0.8305 - val_accuracy: 0.6598\n",
      "Epoch 13/40\n",
      "61/61 [==============================] - 0s 2ms/step - loss: 0.8282 - accuracy: 0.6615 - val_loss: 0.8173 - val_accuracy: 0.6619\n",
      "Epoch 14/40\n",
      "61/61 [==============================] - 0s 2ms/step - loss: 0.8138 - accuracy: 0.6636 - val_loss: 0.8068 - val_accuracy: 0.6742\n",
      "Epoch 15/40\n",
      "61/61 [==============================] - 0s 2ms/step - loss: 0.7995 - accuracy: 0.6729 - val_loss: 0.8035 - val_accuracy: 0.6742\n",
      "Epoch 16/40\n",
      "61/61 [==============================] - 0s 2ms/step - loss: 0.7867 - accuracy: 0.6739 - val_loss: 0.7846 - val_accuracy: 0.6866\n",
      "Epoch 17/40\n",
      "61/61 [==============================] - 0s 2ms/step - loss: 0.7724 - accuracy: 0.6899 - val_loss: 0.7809 - val_accuracy: 0.7031\n",
      "Epoch 18/40\n",
      "61/61 [==============================] - 0s 2ms/step - loss: 0.7636 - accuracy: 0.6889 - val_loss: 0.7717 - val_accuracy: 0.6845\n",
      "Epoch 19/40\n",
      "61/61 [==============================] - 0s 2ms/step - loss: 0.7539 - accuracy: 0.6956 - val_loss: 0.7588 - val_accuracy: 0.6928\n",
      "Epoch 20/40\n",
      "61/61 [==============================] - 0s 2ms/step - loss: 0.7436 - accuracy: 0.7023 - val_loss: 0.7540 - val_accuracy: 0.6990\n",
      "Epoch 21/40\n",
      "61/61 [==============================] - 0s 2ms/step - loss: 0.7335 - accuracy: 0.7012 - val_loss: 0.7441 - val_accuracy: 0.6969\n",
      "Epoch 22/40\n",
      "61/61 [==============================] - 0s 2ms/step - loss: 0.7261 - accuracy: 0.7033 - val_loss: 0.7500 - val_accuracy: 0.6990\n",
      "Epoch 23/40\n",
      "61/61 [==============================] - 0s 2ms/step - loss: 0.7174 - accuracy: 0.7110 - val_loss: 0.7359 - val_accuracy: 0.6928\n",
      "Epoch 24/40\n",
      "61/61 [==============================] - 0s 2ms/step - loss: 0.7082 - accuracy: 0.7152 - val_loss: 0.7368 - val_accuracy: 0.6948\n",
      "Epoch 25/40\n",
      "61/61 [==============================] - 0s 2ms/step - loss: 0.7003 - accuracy: 0.7208 - val_loss: 0.7206 - val_accuracy: 0.7010\n",
      "Epoch 26/40\n",
      "61/61 [==============================] - 0s 2ms/step - loss: 0.6930 - accuracy: 0.7312 - val_loss: 0.7207 - val_accuracy: 0.7113\n",
      "Epoch 27/40\n",
      "61/61 [==============================] - 0s 2ms/step - loss: 0.6855 - accuracy: 0.7286 - val_loss: 0.7171 - val_accuracy: 0.7134\n",
      "Epoch 28/40\n",
      "61/61 [==============================] - 0s 2ms/step - loss: 0.6804 - accuracy: 0.7317 - val_loss: 0.7171 - val_accuracy: 0.7010\n",
      "Epoch 29/40\n",
      "61/61 [==============================] - 0s 2ms/step - loss: 0.6716 - accuracy: 0.7322 - val_loss: 0.6999 - val_accuracy: 0.7134\n",
      "Epoch 30/40\n",
      "61/61 [==============================] - 0s 2ms/step - loss: 0.6657 - accuracy: 0.7436 - val_loss: 0.6995 - val_accuracy: 0.7113\n",
      "Epoch 31/40\n",
      "61/61 [==============================] - 0s 2ms/step - loss: 0.6585 - accuracy: 0.7503 - val_loss: 0.6951 - val_accuracy: 0.7216\n",
      "Epoch 32/40\n",
      "61/61 [==============================] - 0s 2ms/step - loss: 0.6540 - accuracy: 0.7461 - val_loss: 0.6932 - val_accuracy: 0.7113\n",
      "Epoch 33/40\n",
      "61/61 [==============================] - 0s 2ms/step - loss: 0.6470 - accuracy: 0.7456 - val_loss: 0.6878 - val_accuracy: 0.7134\n",
      "Epoch 34/40\n",
      "61/61 [==============================] - 0s 2ms/step - loss: 0.6420 - accuracy: 0.7508 - val_loss: 0.6896 - val_accuracy: 0.7134\n",
      "Epoch 35/40\n",
      "61/61 [==============================] - 0s 2ms/step - loss: 0.6343 - accuracy: 0.7523 - val_loss: 0.6811 - val_accuracy: 0.7216\n",
      "Epoch 36/40\n",
      "61/61 [==============================] - 0s 2ms/step - loss: 0.6297 - accuracy: 0.7580 - val_loss: 0.6868 - val_accuracy: 0.7216\n",
      "Epoch 37/40\n",
      "61/61 [==============================] - 0s 2ms/step - loss: 0.6243 - accuracy: 0.7668 - val_loss: 0.6787 - val_accuracy: 0.7175\n",
      "Epoch 38/40\n",
      "61/61 [==============================] - 0s 2ms/step - loss: 0.6175 - accuracy: 0.7668 - val_loss: 0.6784 - val_accuracy: 0.7278\n",
      "Epoch 39/40\n",
      "61/61 [==============================] - 0s 2ms/step - loss: 0.6135 - accuracy: 0.7704 - val_loss: 0.6779 - val_accuracy: 0.7216\n",
      "Epoch 40/40\n",
      "61/61 [==============================] - 0s 2ms/step - loss: 0.6086 - accuracy: 0.7745 - val_loss: 0.6777 - val_accuracy: 0.7258\n"
     ]
    }
   ],
   "source": [
    "history=model.fit(X_Scale_train,y_train,validation_split=0.2,epochs=40,batch_size=32)"
   ]
  },
  {
   "cell_type": "code",
   "execution_count": 49,
   "metadata": {},
   "outputs": [
    {
     "name": "stdout",
     "output_type": "stream",
     "text": [
      "33/33 [==============================] - 0s 1ms/step - loss: 0.7311 - accuracy: 0.7132\n"
     ]
    }
   ],
   "source": [
    "results = model.evaluate(X_Scale_test, y_test)"
   ]
  },
  {
   "cell_type": "code",
   "execution_count": 50,
   "metadata": {},
   "outputs": [
    {
     "name": "stdout",
     "output_type": "stream",
     "text": [
      "['loss', 'accuracy']\n",
      "[0.7311088442802429, 0.713185727596283]\n"
     ]
    }
   ],
   "source": [
    "print(model.metrics_names)\n",
    "print(results)"
   ]
  },
  {
   "cell_type": "code",
   "execution_count": 51,
   "metadata": {},
   "outputs": [
    {
     "data": {
      "image/png": "[encoded data removed]",
      "text/plain": [
       "<Figure size 640x480 with 1 Axes>"
      ]
     },
     "metadata": {},
     "output_type": "display_data"
    }
   ],
   "source": [
    "loss, accuracy  = model.evaluate(X_Scale_train, y_train, verbose=False)\n",
    "    \n",
    "plt.plot(history.history['loss'])\n",
    "plt.plot(history.history['val_loss'])\n",
    "plt.title('model loss')\n",
    "plt.ylabel('loss')\n",
    "plt.xlabel('epoch')\n",
    "plt.legend(['training', 'validation'], loc='best')\n",
    "plt.show()"
   ]
  },
  {
   "cell_type": "code",
   "execution_count": 52,
   "metadata": {},
   "outputs": [
    {
     "data": {
      "image/png": "[encoded data removed]",
      "text/plain": [
       "<Figure size 640x480 with 1 Axes>"
      ]
     },
     "metadata": {},
     "output_type": "display_data"
    }
   ],
   "source": [
    "loss, accuracy  = model.evaluate(X_Scale_train, y_train, verbose=False)\n",
    "    \n",
    "plt.plot(history.history['accuracy'])\n",
    "plt.plot(history.history['val_accuracy'])\n",
    "plt.title('model accuracy')\n",
    "plt.ylabel('accuracy')\n",
    "plt.xlabel('epoch')\n",
    "plt.legend(['training', 'validation'], loc='best')\n",
    "plt.show()"
   ]
  },
  {
   "cell_type": "markdown",
   "metadata": {},
   "source": [
    "# Though there is not much difference in accuracy but my graph reflect that my model is not overfit model. "
   ]
  },
  {
   "cell_type": "markdown",
   "metadata": {},
   "source": [
    "# PART B:"
   ]
  },
  {
   "cell_type": "markdown",
   "metadata": {},
   "source": [
    "# 1. Data Import and Exploration"
   ]
  },
  {
   "cell_type": "markdown",
   "metadata": {},
   "source": [
    "# A. Read the .h5 file and assign to a variable."
   ]
  },
  {
   "cell_type": "code",
   "execution_count": 53,
   "metadata": {},
   "outputs": [
    {
     "name": "stdout",
     "output_type": "stream",
     "text": [
      "Requirement already satisfied: h5py in c:\\users\\mahes\\anaconda3\\lib\\site-packages (3.7.0)\n",
      "Requirement already satisfied: numpy>=1.14.5 in c:\\users\\mahes\\anaconda3\\lib\\site-packages (from h5py) (1.21.5)\n",
      "Note: you may need to restart the kernel to use updated packages.\n"
     ]
    }
   ],
   "source": [
    "pip install h5py"
   ]
  },
  {
   "cell_type": "code",
   "execution_count": 54,
   "metadata": {},
   "outputs": [],
   "source": [
    "import os"
   ]
  },
  {
   "cell_type": "code",
   "execution_count": 55,
   "metadata": {},
   "outputs": [
    {
     "data": {
      "text/plain": [
       "['.ipynb_checkpoints', 'Grade11_Algorithm.docx', 'LP', 'Mock', 'NN.ipynb']"
      ]
     },
     "execution_count": 55,
     "metadata": {},
     "output_type": "execute_result"
    }
   ],
   "source": [
    "os.listdir()"
   ]
  },
  {
   "cell_type": "code",
   "execution_count": 56,
   "metadata": {},
   "outputs": [],
   "source": [
    "import h5py\n",
    "f1 = h5py.File('C://Users//mahes//Downloads//Autonomous_Vehicles_SVHN_single_grey1.h5', 'r')\n"
   ]
  },
  {
   "cell_type": "markdown",
   "metadata": {},
   "source": [
    "# B. Print all the keys from the .h5 file."
   ]
  },
  {
   "cell_type": "code",
   "execution_count": 57,
   "metadata": {},
   "outputs": [
    {
     "name": "stdout",
     "output_type": "stream",
     "text": [
      "['X_test', 'X_train', 'X_val', 'y_test', 'y_train', 'y_val']\n"
     ]
    }
   ],
   "source": [
    "print(list(f1.keys()))"
   ]
  },
  {
   "cell_type": "markdown",
   "metadata": {},
   "source": [
    "# C. Split the data into X_train, X_test, Y_train, Y_test"
   ]
  },
  {
   "cell_type": "code",
   "execution_count": 58,
   "metadata": {},
   "outputs": [],
   "source": [
    "X_train=f1['X_train']"
   ]
  },
  {
   "cell_type": "code",
   "execution_count": 59,
   "metadata": {
    "scrolled": true
   },
   "outputs": [
    {
     "data": {
      "text/plain": [
       "<HDF5 dataset \"X_train\": shape (42000, 32, 32), type \"<f4\">"
      ]
     },
     "execution_count": 59,
     "metadata": {},
     "output_type": "execute_result"
    }
   ],
   "source": [
    "X_train"
   ]
  },
  {
   "cell_type": "code",
   "execution_count": 60,
   "metadata": {},
   "outputs": [],
   "source": [
    "X_test=f1['X_test']"
   ]
  },
  {
   "cell_type": "code",
   "execution_count": 61,
   "metadata": {},
   "outputs": [],
   "source": [
    "Y_train=f1['y_train']"
   ]
  },
  {
   "cell_type": "code",
   "execution_count": 62,
   "metadata": {},
   "outputs": [],
   "source": [
    "Y_test=f1['y_test']"
   ]
  },
  {
   "cell_type": "markdown",
   "metadata": {},
   "source": [
    "# 2. Data Visualisation and preprocessing"
   ]
  },
  {
   "cell_type": "markdown",
   "metadata": {},
   "source": [
    "# A. Print shape of all the 4 data split into x, y, train, test to verify if x & y is in sync. "
   ]
  },
  {
   "cell_type": "code",
   "execution_count": 63,
   "metadata": {},
   "outputs": [
    {
     "name": "stdout",
     "output_type": "stream",
     "text": [
      "The shape of X_train is (42000, 32, 32)\n",
      "The shape of X_test is (18000, 32, 32)\n",
      "The shape of y_train is (42000,)\n",
      "The shape of y_test is (18000,)\n"
     ]
    }
   ],
   "source": [
    "print(\"The shape of X_train is\",X_train.shape)\n",
    "print(\"The shape of X_test is\",X_test.shape)\n",
    "print(\"The shape of y_train is\",Y_train.shape)\n",
    "print(\"The shape of y_test is\",Y_test.shape)"
   ]
  },
  {
   "cell_type": "markdown",
   "metadata": {},
   "source": [
    "# B. Visualise first 10 images in train data and print its corresponding labels."
   ]
  },
  {
   "cell_type": "code",
   "execution_count": 64,
   "metadata": {},
   "outputs": [
    {
     "data": {
      "image/png": "[encoded data removed]",
      "text/plain": [
       "<Figure size 1000x100 with 10 Axes>"
      ]
     },
     "metadata": {},
     "output_type": "display_data"
    },
    {
     "name": "stdout",
     "output_type": "stream",
     "text": [
      "label for each of the above image: [2 6 7 4 4 0 3 0 7 3]\n"
     ]
    }
   ],
   "source": [
    "%matplotlib inline\n",
    "import matplotlib.pyplot as plt\n",
    "plt.figure(figsize=(10, 1))\n",
    "for i in range(10):\n",
    "    plt.subplot(1, 10, i+1)\n",
    "    plt.imshow(X_train[i], cmap=\"gray\")\n",
    "    plt.axis('off')\n",
    "plt.show()\n",
    "print('label for each of the above image: %s' % (Y_train[0:10]))"
   ]
  },
  {
   "cell_type": "markdown",
   "metadata": {},
   "source": [
    "# C. Reshape all the images with appropriate shape update the data in same variable. "
   ]
  },
  {
   "cell_type": "code",
   "execution_count": 65,
   "metadata": {},
   "outputs": [],
   "source": [
    "image_vector_size = 32*32\n",
    "X_train = np.array(X_train)\n",
    "X_test = np.array(X_test)\n",
    "X_train = X_train.reshape(X_train.shape[0], image_vector_size)\n",
    "X_test = X_test.reshape(X_test.shape[0], image_vector_size)"
   ]
  },
  {
   "cell_type": "code",
   "execution_count": 66,
   "metadata": {},
   "outputs": [
    {
     "data": {
      "text/plain": [
       "array([[ 40.558 ,  46.7917,  48.9764, ..., 110.0169, 111.2017, 114.1906],\n",
       "       [115.1609, 114.161 , 113.1611, ...,  42.1388,  48.2522,  53.2517],\n",
       "       [133.255 , 134.7279, 136.3148, ..., 128.1801, 127.8103, 128.2124],\n",
       "       ...,\n",
       "       [166.1898, 164.7169, 162.8311, ..., 162.902 , 162.788 , 162.674 ],\n",
       "       [137.5778, 136.6919, 134.8061, ..., 144.7881, 142.7883, 141.7884],\n",
       "       [ 30.182 ,  30.182 ,  30.182 , ...,  35.0891,  34.6762,  34.0892]],\n",
       "      dtype=float32)"
      ]
     },
     "execution_count": 66,
     "metadata": {},
     "output_type": "execute_result"
    }
   ],
   "source": [
    "X_test"
   ]
  },
  {
   "cell_type": "markdown",
   "metadata": {},
   "source": [
    "# D. normalize inputs from 0-255 to 0-1"
   ]
  },
  {
   "cell_type": "code",
   "execution_count": 67,
   "metadata": {},
   "outputs": [
    {
     "name": "stdout",
     "output_type": "stream",
     "text": [
      "Training set (42000, 1024) (42000,)\n",
      "Test set (18000, 1024) (18000,)\n"
     ]
    }
   ],
   "source": [
    "\n",
    "X_train = X_train / 255.0\n",
    "X_test = X_test / 255.0\n",
    "\n",
    "print('Training set', X_train.shape, Y_train.shape)\n",
    "print('Test set', X_test.shape, Y_test.shape)"
   ]
  },
  {
   "cell_type": "code",
   "execution_count": 68,
   "metadata": {},
   "outputs": [
    {
     "data": {
      "text/plain": [
       "array([[0.12968785, 0.11866706, 0.10530196, ..., 0.19477727, 0.19942354,\n",
       "        0.20799099],\n",
       "       [0.34101608, 0.3414451 , 0.34656274, ..., 0.29498273, 0.30054745,\n",
       "        0.31092745],\n",
       "       [0.48284313, 0.49356118, 0.47872823, ..., 0.36837214, 0.41093138,\n",
       "        0.44637334],\n",
       "       ...,\n",
       "       [0.6042902 , 0.61100274, 0.6149663 , ..., 0.52993256, 0.53592   ,\n",
       "        0.5398412 ],\n",
       "       [0.8137075 , 0.8176286 , 0.8353796 , ..., 0.83974785, 0.8319055 ,\n",
       "        0.820142  ],\n",
       "       [0.37285647, 0.37677765, 0.39246237, ..., 0.5414914 , 0.5509529 ,\n",
       "        0.5509529 ]], dtype=float32)"
      ]
     },
     "execution_count": 68,
     "metadata": {},
     "output_type": "execute_result"
    }
   ],
   "source": [
    "X_train"
   ]
  },
  {
   "cell_type": "markdown",
   "metadata": {},
   "source": [
    "# E. Transform Labels into format acceptable by Neural Network"
   ]
  },
  {
   "cell_type": "code",
   "execution_count": 69,
   "metadata": {},
   "outputs": [],
   "source": [
    "from tensorflow.keras.utils import to_categorical\n",
    "num_classes = 10\n",
    "Y_train = to_categorical(Y_train, num_classes)\n",
    "Y_test=to_categorical(Y_test,num_classes)\n"
   ]
  },
  {
   "cell_type": "markdown",
   "metadata": {},
   "source": [
    "# F. Print total Number of classes in the Dataset."
   ]
  },
  {
   "cell_type": "code",
   "execution_count": 70,
   "metadata": {},
   "outputs": [
    {
     "data": {
      "text/plain": [
       "array([[0., 1., 0., ..., 0., 0., 0.],\n",
       "       [0., 0., 0., ..., 1., 0., 0.],\n",
       "       [0., 0., 1., ..., 0., 0., 0.],\n",
       "       ...,\n",
       "       [0., 0., 0., ..., 1., 0., 0.],\n",
       "       [0., 0., 0., ..., 0., 0., 1.],\n",
       "       [0., 0., 1., ..., 0., 0., 0.]], dtype=float32)"
      ]
     },
     "execution_count": 70,
     "metadata": {},
     "output_type": "execute_result"
    }
   ],
   "source": [
    "Y_test"
   ]
  },
  {
   "cell_type": "code",
   "execution_count": 71,
   "metadata": {},
   "outputs": [
    {
     "data": {
      "text/plain": [
       "array([[0., 0., 1., ..., 0., 0., 0.],\n",
       "       [0., 0., 0., ..., 0., 0., 0.],\n",
       "       [0., 0., 0., ..., 1., 0., 0.],\n",
       "       ...,\n",
       "       [0., 0., 0., ..., 1., 0., 0.],\n",
       "       [1., 0., 0., ..., 0., 0., 0.],\n",
       "       [0., 0., 0., ..., 0., 0., 0.]], dtype=float32)"
      ]
     },
     "execution_count": 71,
     "metadata": {},
     "output_type": "execute_result"
    }
   ],
   "source": [
    "Y_train"
   ]
  },
  {
   "cell_type": "markdown",
   "metadata": {},
   "source": [
    "# 3. Model Training & Evaluation using Neural Network"
   ]
  },
  {
   "cell_type": "markdown",
   "metadata": {},
   "source": [
    "# A. Design a Neural Network to train a classifier. "
   ]
  },
  {
   "cell_type": "code",
   "execution_count": 91,
   "metadata": {},
   "outputs": [],
   "source": [
    "model=Sequential()"
   ]
  },
  {
   "cell_type": "code",
   "execution_count": 92,
   "metadata": {},
   "outputs": [],
   "source": [
    "n_cols=X_train.shape[1]"
   ]
  },
  {
   "cell_type": "code",
   "execution_count": 93,
   "metadata": {},
   "outputs": [],
   "source": [
    "model.add(Dense(31,activation='relu',input_shape=(n_cols,)))\n",
    "model.add(Dense(21,activation='relu'))\n",
    "#model.add(Dropout(0.5))\n",
    "#model.add(BatchNormalization())\n",
    "#model.add(Dense(30,activation='relu',kernel_initializer='he_uniform'))\n",
    "#model.add(Dense(16,activation='relu'))\n",
    "model.add(Dense(10,activation='softmax'))"
   ]
  },
  {
   "cell_type": "markdown",
   "metadata": {},
   "source": [
    "# B. Train the classifier using previously designed Architecture (Use best suitable parameters). "
   ]
  },
  {
   "cell_type": "code",
   "execution_count": 94,
   "metadata": {},
   "outputs": [],
   "source": [
    "model.compile(loss = tf.keras.losses.categorical_crossentropy,metrics = ['accuracy'])"
   ]
  },
  {
   "cell_type": "code",
   "execution_count": 95,
   "metadata": {},
   "outputs": [
    {
     "name": "stdout",
     "output_type": "stream",
     "text": [
      "Epoch 1/20\n",
      "1050/1050 [==============================] - 2s 2ms/step - loss: 2.3000 - accuracy: 0.1065 - val_loss: 2.2627 - val_accuracy: 0.1585\n",
      "Epoch 2/20\n",
      "1050/1050 [==============================] - 2s 2ms/step - loss: 2.1810 - accuracy: 0.1790 - val_loss: 2.1134 - val_accuracy: 0.2077\n",
      "Epoch 3/20\n",
      "1050/1050 [==============================] - 2s 2ms/step - loss: 2.0158 - accuracy: 0.2629 - val_loss: 1.9088 - val_accuracy: 0.3276\n",
      "Epoch 4/20\n",
      "1050/1050 [==============================] - 2s 2ms/step - loss: 1.8389 - accuracy: 0.3426 - val_loss: 1.7465 - val_accuracy: 0.3874\n",
      "Epoch 5/20\n",
      "1050/1050 [==============================] - 2s 2ms/step - loss: 1.7202 - accuracy: 0.4013 - val_loss: 1.6637 - val_accuracy: 0.4235\n",
      "Epoch 6/20\n",
      "1050/1050 [==============================] - 2s 2ms/step - loss: 1.6415 - accuracy: 0.4298 - val_loss: 1.5936 - val_accuracy: 0.4513\n",
      "Epoch 7/20\n",
      "1050/1050 [==============================] - 2s 2ms/step - loss: 1.5864 - accuracy: 0.4549 - val_loss: 1.6126 - val_accuracy: 0.4515\n",
      "Epoch 8/20\n",
      "1050/1050 [==============================] - 2s 2ms/step - loss: 1.5414 - accuracy: 0.4752 - val_loss: 1.5756 - val_accuracy: 0.4627\n",
      "Epoch 9/20\n",
      "1050/1050 [==============================] - 2s 2ms/step - loss: 1.5194 - accuracy: 0.4872 - val_loss: 1.5015 - val_accuracy: 0.5071\n",
      "Epoch 10/20\n",
      "1050/1050 [==============================] - 2s 2ms/step - loss: 1.5001 - accuracy: 0.4953 - val_loss: 1.5074 - val_accuracy: 0.5024\n",
      "Epoch 11/20\n",
      "1050/1050 [==============================] - 2s 2ms/step - loss: 1.4860 - accuracy: 0.5004 - val_loss: 1.5112 - val_accuracy: 0.4982\n",
      "Epoch 12/20\n",
      "1050/1050 [==============================] - 2s 2ms/step - loss: 1.4753 - accuracy: 0.5054 - val_loss: 1.4922 - val_accuracy: 0.5058\n",
      "Epoch 13/20\n",
      "1050/1050 [==============================] - 2s 2ms/step - loss: 1.4645 - accuracy: 0.5094 - val_loss: 1.4838 - val_accuracy: 0.5060\n",
      "Epoch 14/20\n",
      "1050/1050 [==============================] - 2s 2ms/step - loss: 1.4560 - accuracy: 0.5122 - val_loss: 1.4619 - val_accuracy: 0.5149\n",
      "Epoch 15/20\n",
      "1050/1050 [==============================] - 2s 2ms/step - loss: 1.4493 - accuracy: 0.5172 - val_loss: 1.5259 - val_accuracy: 0.4982\n",
      "Epoch 16/20\n",
      "1050/1050 [==============================] - 2s 2ms/step - loss: 1.4412 - accuracy: 0.5187 - val_loss: 1.4586 - val_accuracy: 0.5152\n",
      "Epoch 17/20\n",
      "1050/1050 [==============================] - 2s 2ms/step - loss: 1.4384 - accuracy: 0.5192 - val_loss: 1.4768 - val_accuracy: 0.5114\n",
      "Epoch 18/20\n",
      "1050/1050 [==============================] - 2s 2ms/step - loss: 1.4356 - accuracy: 0.5209 - val_loss: 1.4213 - val_accuracy: 0.5340\n",
      "Epoch 19/20\n",
      "1050/1050 [==============================] - 2s 2ms/step - loss: 1.4296 - accuracy: 0.5245 - val_loss: 1.4095 - val_accuracy: 0.5408\n",
      "Epoch 20/20\n",
      "1050/1050 [==============================] - 2s 2ms/step - loss: 1.4262 - accuracy: 0.5234 - val_loss: 1.4213 - val_accuracy: 0.5348\n"
     ]
    }
   ],
   "source": [
    "history=model.fit(X_train,Y_train,validation_split=0.2,epochs=20,batch_size=32)"
   ]
  },
  {
   "cell_type": "markdown",
   "metadata": {},
   "source": [
    "# C. Evaluate performance of the model with appropriate metrics"
   ]
  },
  {
   "cell_type": "code",
   "execution_count": 96,
   "metadata": {},
   "outputs": [
    {
     "name": "stdout",
     "output_type": "stream",
     "text": [
      "563/563 [==============================] - 1s 1ms/step - loss: 1.4078 - accuracy: 0.5351\n"
     ]
    }
   ],
   "source": [
    "results = model.evaluate(X_test, Y_test)"
   ]
  },
  {
   "cell_type": "code",
   "execution_count": 97,
   "metadata": {},
   "outputs": [
    {
     "name": "stdout",
     "output_type": "stream",
     "text": [
      "['loss', 'accuracy']\n",
      "[1.4077732563018799, 0.535111129283905]\n"
     ]
    }
   ],
   "source": [
    "print(model.metrics_names)\n",
    "print(results)"
   ]
  },
  {
   "cell_type": "markdown",
   "metadata": {},
   "source": [
    "# D.Plot the training loss, validation loss vs number of epochs and training accuracy, validation accuracy vs number of epochs plot and write your \n",
    "observations on the same. "
   ]
  },
  {
   "cell_type": "code",
   "execution_count": 98,
   "metadata": {},
   "outputs": [
    {
     "data": {
      "image/png": "[encoded data removed]",
      "text/plain": [
       "<Figure size 640x480 with 1 Axes>"
      ]
     },
     "metadata": {},
     "output_type": "display_data"
    }
   ],
   "source": [
    "loss, accuracy  = model.evaluate(X_train, Y_train, verbose=False)\n",
    "    \n",
    "plt.plot(history.history['loss'])\n",
    "plt.plot(history.history['val_loss'])\n",
    "plt.title('model loss')\n",
    "plt.ylabel('loss')\n",
    "plt.xlabel('epoch')\n",
    "plt.legend(['training', 'validation'], loc='best')\n",
    "plt.show()"
   ]
  },
  {
   "cell_type": "code",
   "execution_count": 99,
   "metadata": {},
   "outputs": [
    {
     "data": {
      "image/png": "[encoded data removed]",
      "text/plain": [
       "<Figure size 640x480 with 1 Axes>"
      ]
     },
     "metadata": {},
     "output_type": "display_data"
    }
   ],
   "source": [
    "loss, accuracy  = model.evaluate(X_train, Y_train, verbose=False)\n",
    "    \n",
    "plt.plot(history.history['accuracy'])\n",
    "plt.plot(history.history['val_accuracy'])\n",
    "plt.title('model accuracy')\n",
    "plt.ylabel('accuracy')\n",
    "plt.xlabel('epoch')\n",
    "plt.legend(['training', 'validation'], loc='best')\n",
    "plt.show()"
   ]
  },
  {
   "cell_type": "markdown",
   "metadata": {},
   "source": [
    "# Though my accuracy is low i can see my model accuracy and model loss is neither overfit nor underfit. As i increase the hidden layers or epochs my accuracy drops . Since my graphy is good i consider this as my final model"
   ]
  }
 ],
 "metadata": {
  "kernelspec": {
   "display_name": "Python 3 (ipykernel)",
   "language": "python",
   "name": "python3"
  },
  "language_info": {
   "codemirror_mode": {
    "name": "ipython",
    "version": 3
   },
   "file_extension": ".py",
   "mimetype": "text/x-python",
   "name": "python",
   "nbconvert_exporter": "python",
   "pygments_lexer": "ipython3",
   "version": "3.9.13"
  }
 },
 "nbformat": 4,
 "nbformat_minor": 4
}
